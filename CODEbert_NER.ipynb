{
  "nbformat": 4,
  "nbformat_minor": 0,
  "metadata": {
    "colab": {
      "provenance": []
    },
    "kernelspec": {
      "name": "python3",
      "display_name": "Python 3"
    },
    "language_info": {
      "name": "python"
    }
  },
  "cells": [
    {
      "cell_type": "code",
      "source": [
        "!pip install transformers"
      ],
      "metadata": {
        "id": "usyS0eim1w6_",
        "colab": {
          "base_uri": "https://localhost:8080/"
        },
        "outputId": "f080af79-3db9-49bb-d55b-85740cb0da60"
      },
      "execution_count": null,
      "outputs": [
        {
          "output_type": "stream",
          "name": "stdout",
          "text": [
            "Successfully installed huggingface-hub-0.16.4 safetensors-0.3.3 tokenizers-0.14.0 transformers-4.34.0\n"
          ]
        }
      ]
    },
    {
      "cell_type": "code",
      "source": [
        "!pip install ipymarkup"
      ],
      "metadata": {
        "id": "PoSpR9Qk3EOq"
      },
      "execution_count": null,
      "outputs": []
    },
    {
      "cell_type": "code",
      "source": [
        "from google.colab import drive\n",
        "drive.mount('/content/drive')"
      ],
      "metadata": {
        "colab": {
          "base_uri": "https://localhost:8080/"
        },
        "id": "0vux5T5iy0IM",
        "outputId": "616fa97c-a6c9-4a06-9ffa-2b855631b67e"
      },
      "execution_count": null,
      "outputs": [
        {
          "output_type": "stream",
          "name": "stdout",
          "text": [
            "Mounted at /content/drive\n"
          ]
        }
      ]
    },
    {
      "cell_type": "code",
      "execution_count": null,
      "metadata": {
        "id": "i0wTlwfI1kIz"
      },
      "outputs": [],
      "source": [
        "# Use a pipeline as a high-level helper\n",
        "from transformers import pipeline\n",
        "from ipymarkup import show_span_box_markup\n",
        "import json\n",
        "\n",
        "pipe = pipeline(\"token-classification\", model=\"mrm8488/codebert-base-finetuned-stackoverflow-ner\")"
      ]
    },
    {
      "cell_type": "code",
      "source": [
        "f = open('/content/drive/MyDrive/ShellAI-Cyber-Security/datafinal.json')\n",
        "data = json.load(f)\n",
        "f.close()"
      ],
      "metadata": {
        "id": "WgywUgiP42no"
      },
      "execution_count": null,
      "outputs": []
    },
    {
      "cell_type": "code",
      "source": [
        "data"
      ],
      "metadata": {
        "id": "-f8L-UDM-JUh"
      },
      "execution_count": null,
      "outputs": []
    },
    {
      "cell_type": "code",
      "source": [
        "final_res = {}\n",
        "for (idx, text) in data['Text'].items():\n",
        "  if data['ContainsCode'][idx] == '':\n",
        "    contains_code = False\n",
        "    results = pipe(text, grouped_entities=True)\n",
        "    results.sort(key=lambda x: x['start'])\n",
        "    results_full = results\n",
        "    results = list(filter(lambda x: x['entity_group'] == 'Code_Block', results))\n",
        "    if(len(results) == 0):\n",
        "      results = list(filter(lambda x: (x['entity_group'] == 'Value') or (x['entity_group'] == 'Variable') or\n",
        "                            (x['entity_group'] == 'Function') or (x['entity_group'] == 'Class')\n",
        "                            or (x['entity_group'] == 'Data_Type')), results_full)\n",
        "    codelist = \"\"\n",
        "    if (len(results) > 0):\n",
        "      for i in results :\n",
        "        codelist += text[i['start'] : i['end']]\n",
        "      # codelist = text[results[0]['start'] : results[-1]['end']]\n",
        "      contains_code = True\n",
        "\n",
        "      data['ContainsCode'][idx] = contains_code\n",
        "      data['CodeList'][idx] = codelist\n",
        "    # spans = []\n",
        "    # for i in results:\n",
        "    #   if i['entity_group'] == 'Code_Block' and i['start'] != i['end']:\n",
        "    #     contains_code = True\n",
        "    #     spans.append((i['start'], i['end'], i['entity_group']))\n",
        "    # show_span_box_markup(text, spans)\n",
        "    print(idx)\n",
        "  final_res[idx] = contains_code"
      ],
      "metadata": {
        "id": "5EIAATAW-Rdb",
        "colab": {
          "base_uri": "https://localhost:8080/"
        },
        "outputId": "08955129-e61f-4266-fa35-f983b28cc403"
      },
      "execution_count": null,
      "outputs": [
        {
          "output_type": "stream",
          "name": "stderr",
          "text": [
            "/usr/local/lib/python3.10/dist-packages/transformers/pipelines/token_classification.py:169: UserWarning: `grouped_entities` is deprecated and will be removed in version v5.0.0, defaulted to `aggregation_strategy=\"simple\"` instead.\n",
            "  warnings.warn(\n"
          ]
        },
        {
          "output_type": "stream",
          "name": "stdout",
          "text": [
            "0\n"
          ]
        },
        {
          "output_type": "stream",
          "name": "stderr",
          "text": [
            "/usr/local/lib/python3.10/dist-packages/transformers/pipelines/token_classification.py:169: UserWarning: `grouped_entities` is deprecated and will be removed in version v5.0.0, defaulted to `aggregation_strategy=\"simple\"` instead.\n",
            "  warnings.warn(\n"
          ]
        },
        {
          "output_type": "stream",
          "name": "stdout",
          "text": [
            "2\n",
            "5\n",
            "6\n",
            "13\n",
            "17\n",
            "20\n",
            "21\n",
            "27\n",
            "29\n",
            "33\n",
            "34\n",
            "36\n",
            "50\n",
            "52\n",
            "59\n",
            "66\n",
            "69\n",
            "71\n",
            "73\n",
            "79\n",
            "82\n",
            "84\n",
            "89\n",
            "91\n",
            "100\n",
            "107\n",
            "108\n",
            "109\n",
            "112\n",
            "119\n",
            "120\n",
            "123\n",
            "125\n",
            "128\n",
            "129\n",
            "133\n",
            "134\n",
            "138\n",
            "140\n",
            "142\n",
            "147\n",
            "152\n",
            "154\n",
            "156\n",
            "158\n",
            "164\n",
            "169\n",
            "174\n",
            "177\n",
            "180\n",
            "182\n",
            "187\n",
            "196\n",
            "198\n",
            "201\n",
            "209\n",
            "211\n",
            "223\n",
            "224\n",
            "230\n",
            "231\n",
            "233\n",
            "235\n",
            "237\n",
            "243\n",
            "246\n",
            "253\n",
            "254\n",
            "259\n",
            "262\n",
            "264\n",
            "266\n",
            "268\n",
            "269\n",
            "271\n",
            "273\n",
            "275\n",
            "281\n",
            "287\n",
            "291\n",
            "293\n",
            "297\n",
            "301\n",
            "303\n",
            "304\n",
            "306\n",
            "312\n",
            "314\n",
            "319\n",
            "321\n",
            "323\n",
            "327\n",
            "332\n",
            "334\n",
            "337\n",
            "339\n",
            "346\n",
            "352\n",
            "354\n",
            "356\n",
            "358\n",
            "362\n",
            "364\n",
            "365\n",
            "373\n",
            "376\n",
            "378\n",
            "379\n",
            "381\n",
            "387\n",
            "391\n",
            "393\n",
            "397\n",
            "402\n",
            "404\n",
            "406\n",
            "408\n",
            "411\n",
            "415\n",
            "424\n",
            "427\n",
            "429\n",
            "432\n",
            "434\n",
            "445\n",
            "453\n",
            "454\n",
            "456\n",
            "457\n",
            "458\n",
            "459\n",
            "461\n",
            "463\n",
            "467\n",
            "469\n",
            "471\n",
            "473\n",
            "475\n",
            "476\n",
            "478\n",
            "482\n",
            "484\n",
            "486\n",
            "487\n",
            "493\n",
            "494\n",
            "498\n",
            "499\n",
            "501\n",
            "504\n",
            "510\n",
            "517\n",
            "518\n",
            "522\n",
            "528\n",
            "538\n",
            "540\n",
            "542\n",
            "544\n",
            "546\n",
            "548\n",
            "564\n",
            "572\n",
            "574\n",
            "576\n",
            "578\n",
            "581\n",
            "586\n",
            "588\n",
            "590\n",
            "592\n",
            "598\n",
            "602\n",
            "604\n",
            "608\n",
            "610\n",
            "613\n",
            "614\n",
            "620\n",
            "623\n",
            "627\n",
            "631\n",
            "633\n",
            "635\n",
            "644\n",
            "649\n",
            "651\n",
            "652\n",
            "654\n",
            "655\n",
            "659\n",
            "663\n",
            "667\n",
            "673\n",
            "676\n",
            "677\n",
            "679\n",
            "684\n",
            "686\n",
            "689\n",
            "693\n",
            "696\n",
            "700\n",
            "702\n",
            "706\n",
            "710\n",
            "714\n",
            "720\n",
            "722\n",
            "724\n",
            "727\n",
            "729\n",
            "730\n",
            "737\n",
            "739\n",
            "742\n",
            "756\n",
            "757\n",
            "761\n",
            "771\n",
            "773\n",
            "786\n",
            "788\n",
            "792\n",
            "793\n",
            "795\n",
            "802\n",
            "805\n",
            "808\n",
            "812\n",
            "813\n",
            "814\n",
            "816\n",
            "820\n",
            "828\n",
            "830\n",
            "837\n",
            "844\n",
            "856\n",
            "858\n",
            "860\n",
            "865\n",
            "870\n",
            "871\n",
            "874\n",
            "879\n",
            "880\n",
            "884\n",
            "885\n",
            "889\n",
            "890\n",
            "891\n",
            "897\n",
            "899\n",
            "905\n",
            "911\n",
            "916\n",
            "924\n",
            "928\n",
            "938\n",
            "949\n",
            "951\n",
            "953\n",
            "955\n",
            "957\n",
            "961\n",
            "963\n",
            "966\n",
            "970\n",
            "972\n",
            "976\n",
            "977\n",
            "979\n",
            "980\n",
            "1006\n",
            "1008\n",
            "1010\n",
            "1013\n",
            "1017\n",
            "1026\n",
            "1027\n",
            "1029\n",
            "1032\n",
            "1034\n",
            "1039\n",
            "1040\n",
            "1043\n",
            "1046\n",
            "1048\n",
            "1050\n",
            "1054\n",
            "1056\n",
            "1060\n",
            "1062\n",
            "1063\n",
            "1067\n",
            "1069\n",
            "1072\n",
            "1080\n",
            "1085\n",
            "1088\n",
            "1097\n",
            "1101\n",
            "1103\n",
            "1105\n",
            "1111\n",
            "1113\n",
            "1118\n",
            "1120\n",
            "1122\n",
            "1124\n",
            "1128\n",
            "1129\n",
            "1130\n",
            "1136\n",
            "1138\n",
            "1143\n",
            "1145\n",
            "1148\n",
            "1151\n",
            "1153\n",
            "1156\n",
            "1158\n",
            "1159\n",
            "1162\n",
            "1171\n",
            "1173\n",
            "1177\n",
            "1181\n",
            "1186\n",
            "1191\n",
            "1193\n",
            "1195\n",
            "1197\n",
            "1199\n",
            "1203\n",
            "1204\n",
            "1206\n",
            "1208\n",
            "1211\n",
            "1215\n",
            "1218\n",
            "1219\n",
            "1222\n",
            "1225\n",
            "1226\n",
            "1229\n",
            "1231\n",
            "1233\n",
            "1234\n",
            "1236\n",
            "1238\n",
            "1246\n",
            "1251\n",
            "1252\n",
            "1254\n",
            "1256\n",
            "1261\n",
            "1263\n",
            "1265\n",
            "1271\n",
            "1274\n",
            "1278\n",
            "1279\n",
            "1284\n",
            "1286\n",
            "1288\n",
            "1292\n",
            "1294\n",
            "1297\n",
            "1302\n",
            "1309\n",
            "1313\n",
            "1315\n",
            "1320\n",
            "1332\n",
            "1338\n",
            "1343\n",
            "1345\n",
            "1347\n",
            "1351\n",
            "1355\n",
            "1372\n",
            "1378\n",
            "1384\n",
            "1388\n",
            "1390\n",
            "1392\n",
            "1397\n",
            "1400\n",
            "1403\n",
            "1406\n",
            "1407\n",
            "1408\n",
            "1411\n",
            "1414\n",
            "1421\n",
            "1424\n",
            "1430\n",
            "1440\n",
            "1441\n",
            "1443\n",
            "1445\n",
            "1449\n",
            "1451\n",
            "1453\n",
            "1458\n",
            "1459\n",
            "1469\n",
            "1473\n",
            "1475\n",
            "1477\n",
            "1490\n",
            "1492\n",
            "1493\n",
            "1495\n",
            "1497\n",
            "1505\n",
            "1512\n",
            "1514\n",
            "1515\n",
            "1517\n",
            "1525\n",
            "1529\n",
            "1532\n",
            "1534\n",
            "1545\n",
            "1546\n",
            "1554\n",
            "1556\n",
            "1560\n",
            "1568\n",
            "1577\n",
            "1579\n",
            "1581\n",
            "1583\n",
            "1585\n",
            "1586\n",
            "1588\n",
            "1592\n",
            "1594\n",
            "1598\n",
            "1600\n",
            "1605\n",
            "1607\n",
            "1614\n",
            "1617\n",
            "1619\n",
            "1625\n",
            "1626\n",
            "1632\n",
            "1635\n",
            "1638\n",
            "1639\n",
            "1642\n",
            "1644\n",
            "1645\n",
            "1648\n",
            "1654\n",
            "1662\n",
            "1666\n",
            "1670\n",
            "1674\n",
            "1680\n",
            "1682\n",
            "1683\n",
            "1687\n",
            "1691\n",
            "1695\n",
            "1702\n",
            "1708\n",
            "1712\n",
            "1714\n",
            "1720\n",
            "1722\n",
            "1725\n",
            "1731\n",
            "1735\n",
            "1741\n",
            "1743\n",
            "1745\n",
            "1749\n",
            "1754\n",
            "1756\n",
            "1758\n",
            "1762\n",
            "1764\n",
            "1768\n",
            "1772\n",
            "1774\n",
            "1778\n",
            "1780\n",
            "1782\n",
            "1784\n",
            "1786\n",
            "1788\n",
            "1789\n",
            "1790\n",
            "1792\n",
            "1796\n",
            "1799\n",
            "1801\n",
            "1803\n",
            "1804\n",
            "1808\n",
            "1816\n",
            "1820\n",
            "1822\n",
            "1832\n",
            "1838\n",
            "1839\n",
            "1843\n",
            "1848\n",
            "1849\n",
            "1854\n",
            "1858\n",
            "1862\n",
            "1863\n",
            "1869\n",
            "1872\n",
            "1873\n",
            "1874\n",
            "1875\n",
            "1878\n",
            "1881\n",
            "1882\n",
            "1895\n",
            "1900\n",
            "1905\n",
            "1906\n"
          ]
        }
      ]
    },
    {
      "cell_type": "code",
      "source": [
        "print(\"TOTAL : \" , len(data['ContainsCode']))\n",
        "counter = 0\n",
        "counter_given = 0\n",
        "for (idx, prediction) in final_res.items():\n",
        "  if data['ContainsCode'][idx] == '':\n",
        "    continue\n",
        "  counter_given += 1\n",
        "  # print(\"Given Value :\" , data['ContainsCode'][idx], \" |||||||    Prediction :\" , prediction)\n",
        "  if data['ContainsCode'][idx] != prediction:\n",
        "    print(idx, prediction, data['Text'][idx])\n",
        "  if data['ContainsCode'][idx] == prediction:\n",
        "    counter += 1\n",
        "print(\"TOTAL GIVEN : \" , counter_given)\n",
        "print(\"TOTAL CORRECT : \" , counter)"
      ],
      "metadata": {
        "id": "C4A_QW82A6P9"
      },
      "execution_count": null,
      "outputs": []
    },
    {
      "cell_type": "code",
      "source": [
        "import pandas as pd\n",
        "df = pd.read_json(\"/content/drive/MyDrive/ShellAI-Cyber-Security/datafinal.json\")\n",
        "df[\"CodeList\"].fillna(\"\",inplace=True) ## Incase if it contain any NaN values)\n",
        "from sklearn.preprocessing import MultiLabelBinarizer\n",
        "mlb = MultiLabelBinarizer()\n",
        "s1 = df[\"CodeList\"]\n",
        "t1 = mlb.fit_transform(s1)\n",
        "# submission = pd.DataFrame(t1)\n",
        "# submission.to_csv(\"submission.csv\",index=False)\n",
        "\n",
        "# submission"
      ],
      "metadata": {
        "id": "BU1h_Cx9aM1o"
      },
      "execution_count": null,
      "outputs": []
    },
    {
      "cell_type": "code",
      "source": [
        "list(mlb.classes_)\n"
      ],
      "metadata": {
        "colab": {
          "base_uri": "https://localhost:8080/"
        },
        "id": "QUmwgCCWjpZP",
        "outputId": "5bee3411-c215-4352-de68-4513d688ae22"
      },
      "execution_count": null,
      "outputs": [
        {
          "output_type": "execute_result",
          "data": {
            "text/plain": [
              "[' ',\n",
              " '!',\n",
              " '\"',\n",
              " '#',\n",
              " '$',\n",
              " '%',\n",
              " '&',\n",
              " \"'\",\n",
              " '(',\n",
              " ')',\n",
              " '*',\n",
              " '+',\n",
              " ',',\n",
              " '-',\n",
              " '.',\n",
              " '/',\n",
              " '0',\n",
              " '1',\n",
              " '2',\n",
              " '3',\n",
              " '4',\n",
              " '5',\n",
              " '6',\n",
              " '7',\n",
              " '8',\n",
              " '9',\n",
              " ':',\n",
              " ';',\n",
              " '<',\n",
              " '=',\n",
              " '>',\n",
              " '?',\n",
              " '@',\n",
              " 'A',\n",
              " 'B',\n",
              " 'C',\n",
              " 'D',\n",
              " 'E',\n",
              " 'F',\n",
              " 'G',\n",
              " 'H',\n",
              " 'I',\n",
              " 'J',\n",
              " 'K',\n",
              " 'L',\n",
              " 'M',\n",
              " 'N',\n",
              " 'O',\n",
              " 'P',\n",
              " 'Q',\n",
              " 'R',\n",
              " 'S',\n",
              " 'T',\n",
              " 'U',\n",
              " 'V',\n",
              " 'W',\n",
              " 'X',\n",
              " 'Y',\n",
              " 'Z',\n",
              " '[',\n",
              " '\\\\',\n",
              " ']',\n",
              " '_',\n",
              " '`',\n",
              " 'a',\n",
              " 'b',\n",
              " 'c',\n",
              " 'd',\n",
              " 'e',\n",
              " 'f',\n",
              " 'g',\n",
              " 'h',\n",
              " 'i',\n",
              " 'j',\n",
              " 'k',\n",
              " 'l',\n",
              " 'm',\n",
              " 'n',\n",
              " 'o',\n",
              " 'p',\n",
              " 'q',\n",
              " 'r',\n",
              " 's',\n",
              " 't',\n",
              " 'u',\n",
              " 'v',\n",
              " 'w',\n",
              " 'x',\n",
              " 'y',\n",
              " 'z',\n",
              " '{',\n",
              " '|',\n",
              " '}']"
            ]
          },
          "metadata": {},
          "execution_count": 31
        }
      ]
    },
    {
      "cell_type": "code",
      "source": [
        "import pandas as pd\n",
        "df_preds = pd.DataFrame(data)\n",
        "df_preds[\"CodeList\"].fillna(\"\",inplace=True) ## Incase if it contain any NaN values)\n",
        "s2 = df_preds[\"CodeList\"]\n",
        "t2 = mlb.transform(s2)\n",
        "submission = pd.DataFrame(t2)\n",
        "submission.to_csv(\"submission4.csv\",index=False)\n",
        "\n",
        "submission"
      ],
      "metadata": {
        "colab": {
          "base_uri": "https://localhost:8080/",
          "height": 478
        },
        "id": "RspWjxNnQ7TU",
        "outputId": "31081cca-530c-4da0-d376-f5f103087b3f"
      },
      "execution_count": null,
      "outputs": [
        {
          "output_type": "stream",
          "name": "stderr",
          "text": [
            "/usr/local/lib/python3.10/dist-packages/sklearn/preprocessing/_label.py:895: UserWarning: unknown class(es) ['\\t', '\\n'] will be ignored\n",
            "  warnings.warn(\n"
          ]
        },
        {
          "output_type": "execute_result",
          "data": {
            "text/plain": [
              "      0   1   2   3   4   5   6   7   8   9   ...  83  84  85  86  87  88  89  \\\n",
              "0      1   0   0   0   0   0   0   0   1   1  ...   1   1   1   1   0   0   0   \n",
              "1      0   0   0   0   0   0   0   0   0   0  ...   0   0   0   0   0   0   0   \n",
              "2      1   0   0   0   0   0   0   0   1   1  ...   1   1   0   0   0   1   0   \n",
              "3      1   0   0   0   0   0   0   1   0   0  ...   1   0   0   0   0   0   0   \n",
              "4      0   0   0   0   0   0   0   0   0   0  ...   0   0   0   0   0   0   0   \n",
              "...   ..  ..  ..  ..  ..  ..  ..  ..  ..  ..  ...  ..  ..  ..  ..  ..  ..  ..   \n",
              "1903   1   0   0   0   0   0   0   0   1   1  ...   1   0   0   1   0   1   0   \n",
              "1904   0   0   0   0   0   0   0   0   0   0  ...   0   0   0   0   0   0   0   \n",
              "1905   1   1   0   0   0   0   0   1   1   1  ...   1   1   0   1   0   0   0   \n",
              "1906   1   0   0   0   0   0   0   0   0   0  ...   1   1   0   0   0   1   0   \n",
              "1907   0   0   0   0   0   0   0   0   0   0  ...   0   0   0   0   0   0   0   \n",
              "\n",
              "      90  91  92  \n",
              "0      1   0   1  \n",
              "1      0   0   0  \n",
              "2      0   0   0  \n",
              "3      0   0   0  \n",
              "4      0   0   0  \n",
              "...   ..  ..  ..  \n",
              "1903   0   0   0  \n",
              "1904   0   0   0  \n",
              "1905   1   0   1  \n",
              "1906   0   0   0  \n",
              "1907   0   0   0  \n",
              "\n",
              "[1908 rows x 93 columns]"
            ],
            "text/html": [
              "\n",
              "  <div id=\"df-da7478c3-2a17-478f-a535-3a09c3344521\" class=\"colab-df-container\">\n",
              "    <div>\n",
              "<style scoped>\n",
              "    .dataframe tbody tr th:only-of-type {\n",
              "        vertical-align: middle;\n",
              "    }\n",
              "\n",
              "    .dataframe tbody tr th {\n",
              "        vertical-align: top;\n",
              "    }\n",
              "\n",
              "    .dataframe thead th {\n",
              "        text-align: right;\n",
              "    }\n",
              "</style>\n",
              "<table border=\"1\" class=\"dataframe\">\n",
              "  <thead>\n",
              "    <tr style=\"text-align: right;\">\n",
              "      <th></th>\n",
              "      <th>0</th>\n",
              "      <th>1</th>\n",
              "      <th>2</th>\n",
              "      <th>3</th>\n",
              "      <th>4</th>\n",
              "      <th>5</th>\n",
              "      <th>6</th>\n",
              "      <th>7</th>\n",
              "      <th>8</th>\n",
              "      <th>9</th>\n",
              "      <th>...</th>\n",
              "      <th>83</th>\n",
              "      <th>84</th>\n",
              "      <th>85</th>\n",
              "      <th>86</th>\n",
              "      <th>87</th>\n",
              "      <th>88</th>\n",
              "      <th>89</th>\n",
              "      <th>90</th>\n",
              "      <th>91</th>\n",
              "      <th>92</th>\n",
              "    </tr>\n",
              "  </thead>\n",
              "  <tbody>\n",
              "    <tr>\n",
              "      <th>0</th>\n",
              "      <td>1</td>\n",
              "      <td>0</td>\n",
              "      <td>0</td>\n",
              "      <td>0</td>\n",
              "      <td>0</td>\n",
              "      <td>0</td>\n",
              "      <td>0</td>\n",
              "      <td>0</td>\n",
              "      <td>1</td>\n",
              "      <td>1</td>\n",
              "      <td>...</td>\n",
              "      <td>1</td>\n",
              "      <td>1</td>\n",
              "      <td>1</td>\n",
              "      <td>1</td>\n",
              "      <td>0</td>\n",
              "      <td>0</td>\n",
              "      <td>0</td>\n",
              "      <td>1</td>\n",
              "      <td>0</td>\n",
              "      <td>1</td>\n",
              "    </tr>\n",
              "    <tr>\n",
              "      <th>1</th>\n",
              "      <td>0</td>\n",
              "      <td>0</td>\n",
              "      <td>0</td>\n",
              "      <td>0</td>\n",
              "      <td>0</td>\n",
              "      <td>0</td>\n",
              "      <td>0</td>\n",
              "      <td>0</td>\n",
              "      <td>0</td>\n",
              "      <td>0</td>\n",
              "      <td>...</td>\n",
              "      <td>0</td>\n",
              "      <td>0</td>\n",
              "      <td>0</td>\n",
              "      <td>0</td>\n",
              "      <td>0</td>\n",
              "      <td>0</td>\n",
              "      <td>0</td>\n",
              "      <td>0</td>\n",
              "      <td>0</td>\n",
              "      <td>0</td>\n",
              "    </tr>\n",
              "    <tr>\n",
              "      <th>2</th>\n",
              "      <td>1</td>\n",
              "      <td>0</td>\n",
              "      <td>0</td>\n",
              "      <td>0</td>\n",
              "      <td>0</td>\n",
              "      <td>0</td>\n",
              "      <td>0</td>\n",
              "      <td>0</td>\n",
              "      <td>1</td>\n",
              "      <td>1</td>\n",
              "      <td>...</td>\n",
              "      <td>1</td>\n",
              "      <td>1</td>\n",
              "      <td>0</td>\n",
              "      <td>0</td>\n",
              "      <td>0</td>\n",
              "      <td>1</td>\n",
              "      <td>0</td>\n",
              "      <td>0</td>\n",
              "      <td>0</td>\n",
              "      <td>0</td>\n",
              "    </tr>\n",
              "    <tr>\n",
              "      <th>3</th>\n",
              "      <td>1</td>\n",
              "      <td>0</td>\n",
              "      <td>0</td>\n",
              "      <td>0</td>\n",
              "      <td>0</td>\n",
              "      <td>0</td>\n",
              "      <td>0</td>\n",
              "      <td>1</td>\n",
              "      <td>0</td>\n",
              "      <td>0</td>\n",
              "      <td>...</td>\n",
              "      <td>1</td>\n",
              "      <td>0</td>\n",
              "      <td>0</td>\n",
              "      <td>0</td>\n",
              "      <td>0</td>\n",
              "      <td>0</td>\n",
              "      <td>0</td>\n",
              "      <td>0</td>\n",
              "      <td>0</td>\n",
              "      <td>0</td>\n",
              "    </tr>\n",
              "    <tr>\n",
              "      <th>4</th>\n",
              "      <td>0</td>\n",
              "      <td>0</td>\n",
              "      <td>0</td>\n",
              "      <td>0</td>\n",
              "      <td>0</td>\n",
              "      <td>0</td>\n",
              "      <td>0</td>\n",
              "      <td>0</td>\n",
              "      <td>0</td>\n",
              "      <td>0</td>\n",
              "      <td>...</td>\n",
              "      <td>0</td>\n",
              "      <td>0</td>\n",
              "      <td>0</td>\n",
              "      <td>0</td>\n",
              "      <td>0</td>\n",
              "      <td>0</td>\n",
              "      <td>0</td>\n",
              "      <td>0</td>\n",
              "      <td>0</td>\n",
              "      <td>0</td>\n",
              "    </tr>\n",
              "    <tr>\n",
              "      <th>...</th>\n",
              "      <td>...</td>\n",
              "      <td>...</td>\n",
              "      <td>...</td>\n",
              "      <td>...</td>\n",
              "      <td>...</td>\n",
              "      <td>...</td>\n",
              "      <td>...</td>\n",
              "      <td>...</td>\n",
              "      <td>...</td>\n",
              "      <td>...</td>\n",
              "      <td>...</td>\n",
              "      <td>...</td>\n",
              "      <td>...</td>\n",
              "      <td>...</td>\n",
              "      <td>...</td>\n",
              "      <td>...</td>\n",
              "      <td>...</td>\n",
              "      <td>...</td>\n",
              "      <td>...</td>\n",
              "      <td>...</td>\n",
              "      <td>...</td>\n",
              "    </tr>\n",
              "    <tr>\n",
              "      <th>1903</th>\n",
              "      <td>1</td>\n",
              "      <td>0</td>\n",
              "      <td>0</td>\n",
              "      <td>0</td>\n",
              "      <td>0</td>\n",
              "      <td>0</td>\n",
              "      <td>0</td>\n",
              "      <td>0</td>\n",
              "      <td>1</td>\n",
              "      <td>1</td>\n",
              "      <td>...</td>\n",
              "      <td>1</td>\n",
              "      <td>0</td>\n",
              "      <td>0</td>\n",
              "      <td>1</td>\n",
              "      <td>0</td>\n",
              "      <td>1</td>\n",
              "      <td>0</td>\n",
              "      <td>0</td>\n",
              "      <td>0</td>\n",
              "      <td>0</td>\n",
              "    </tr>\n",
              "    <tr>\n",
              "      <th>1904</th>\n",
              "      <td>0</td>\n",
              "      <td>0</td>\n",
              "      <td>0</td>\n",
              "      <td>0</td>\n",
              "      <td>0</td>\n",
              "      <td>0</td>\n",
              "      <td>0</td>\n",
              "      <td>0</td>\n",
              "      <td>0</td>\n",
              "      <td>0</td>\n",
              "      <td>...</td>\n",
              "      <td>0</td>\n",
              "      <td>0</td>\n",
              "      <td>0</td>\n",
              "      <td>0</td>\n",
              "      <td>0</td>\n",
              "      <td>0</td>\n",
              "      <td>0</td>\n",
              "      <td>0</td>\n",
              "      <td>0</td>\n",
              "      <td>0</td>\n",
              "    </tr>\n",
              "    <tr>\n",
              "      <th>1905</th>\n",
              "      <td>1</td>\n",
              "      <td>1</td>\n",
              "      <td>0</td>\n",
              "      <td>0</td>\n",
              "      <td>0</td>\n",
              "      <td>0</td>\n",
              "      <td>0</td>\n",
              "      <td>1</td>\n",
              "      <td>1</td>\n",
              "      <td>1</td>\n",
              "      <td>...</td>\n",
              "      <td>1</td>\n",
              "      <td>1</td>\n",
              "      <td>0</td>\n",
              "      <td>1</td>\n",
              "      <td>0</td>\n",
              "      <td>0</td>\n",
              "      <td>0</td>\n",
              "      <td>1</td>\n",
              "      <td>0</td>\n",
              "      <td>1</td>\n",
              "    </tr>\n",
              "    <tr>\n",
              "      <th>1906</th>\n",
              "      <td>1</td>\n",
              "      <td>0</td>\n",
              "      <td>0</td>\n",
              "      <td>0</td>\n",
              "      <td>0</td>\n",
              "      <td>0</td>\n",
              "      <td>0</td>\n",
              "      <td>0</td>\n",
              "      <td>0</td>\n",
              "      <td>0</td>\n",
              "      <td>...</td>\n",
              "      <td>1</td>\n",
              "      <td>1</td>\n",
              "      <td>0</td>\n",
              "      <td>0</td>\n",
              "      <td>0</td>\n",
              "      <td>1</td>\n",
              "      <td>0</td>\n",
              "      <td>0</td>\n",
              "      <td>0</td>\n",
              "      <td>0</td>\n",
              "    </tr>\n",
              "    <tr>\n",
              "      <th>1907</th>\n",
              "      <td>0</td>\n",
              "      <td>0</td>\n",
              "      <td>0</td>\n",
              "      <td>0</td>\n",
              "      <td>0</td>\n",
              "      <td>0</td>\n",
              "      <td>0</td>\n",
              "      <td>0</td>\n",
              "      <td>0</td>\n",
              "      <td>0</td>\n",
              "      <td>...</td>\n",
              "      <td>0</td>\n",
              "      <td>0</td>\n",
              "      <td>0</td>\n",
              "      <td>0</td>\n",
              "      <td>0</td>\n",
              "      <td>0</td>\n",
              "      <td>0</td>\n",
              "      <td>0</td>\n",
              "      <td>0</td>\n",
              "      <td>0</td>\n",
              "    </tr>\n",
              "  </tbody>\n",
              "</table>\n",
              "<p>1908 rows × 93 columns</p>\n",
              "</div>\n",
              "    <div class=\"colab-df-buttons\">\n",
              "\n",
              "  <div class=\"colab-df-container\">\n",
              "    <button class=\"colab-df-convert\" onclick=\"convertToInteractive('df-da7478c3-2a17-478f-a535-3a09c3344521')\"\n",
              "            title=\"Convert this dataframe to an interactive table.\"\n",
              "            style=\"display:none;\">\n",
              "\n",
              "  <svg xmlns=\"http://www.w3.org/2000/svg\" height=\"24px\" viewBox=\"0 -960 960 960\">\n",
              "    <path d=\"M120-120v-720h720v720H120Zm60-500h600v-160H180v160Zm220 220h160v-160H400v160Zm0 220h160v-160H400v160ZM180-400h160v-160H180v160Zm440 0h160v-160H620v160ZM180-180h160v-160H180v160Zm440 0h160v-160H620v160Z\"/>\n",
              "  </svg>\n",
              "    </button>\n",
              "\n",
              "  <style>\n",
              "    .colab-df-container {\n",
              "      display:flex;\n",
              "      gap: 12px;\n",
              "    }\n",
              "\n",
              "    .colab-df-convert {\n",
              "      background-color: #E8F0FE;\n",
              "      border: none;\n",
              "      border-radius: 50%;\n",
              "      cursor: pointer;\n",
              "      display: none;\n",
              "      fill: #1967D2;\n",
              "      height: 32px;\n",
              "      padding: 0 0 0 0;\n",
              "      width: 32px;\n",
              "    }\n",
              "\n",
              "    .colab-df-convert:hover {\n",
              "      background-color: #E2EBFA;\n",
              "      box-shadow: 0px 1px 2px rgba(60, 64, 67, 0.3), 0px 1px 3px 1px rgba(60, 64, 67, 0.15);\n",
              "      fill: #174EA6;\n",
              "    }\n",
              "\n",
              "    .colab-df-buttons div {\n",
              "      margin-bottom: 4px;\n",
              "    }\n",
              "\n",
              "    [theme=dark] .colab-df-convert {\n",
              "      background-color: #3B4455;\n",
              "      fill: #D2E3FC;\n",
              "    }\n",
              "\n",
              "    [theme=dark] .colab-df-convert:hover {\n",
              "      background-color: #434B5C;\n",
              "      box-shadow: 0px 1px 3px 1px rgba(0, 0, 0, 0.15);\n",
              "      filter: drop-shadow(0px 1px 2px rgba(0, 0, 0, 0.3));\n",
              "      fill: #FFFFFF;\n",
              "    }\n",
              "  </style>\n",
              "\n",
              "    <script>\n",
              "      const buttonEl =\n",
              "        document.querySelector('#df-da7478c3-2a17-478f-a535-3a09c3344521 button.colab-df-convert');\n",
              "      buttonEl.style.display =\n",
              "        google.colab.kernel.accessAllowed ? 'block' : 'none';\n",
              "\n",
              "      async function convertToInteractive(key) {\n",
              "        const element = document.querySelector('#df-da7478c3-2a17-478f-a535-3a09c3344521');\n",
              "        const dataTable =\n",
              "          await google.colab.kernel.invokeFunction('convertToInteractive',\n",
              "                                                    [key], {});\n",
              "        if (!dataTable) return;\n",
              "\n",
              "        const docLinkHtml = 'Like what you see? Visit the ' +\n",
              "          '<a target=\"_blank\" href=https://colab.research.google.com/notebooks/data_table.ipynb>data table notebook</a>'\n",
              "          + ' to learn more about interactive tables.';\n",
              "        element.innerHTML = '';\n",
              "        dataTable['output_type'] = 'display_data';\n",
              "        await google.colab.output.renderOutput(dataTable, element);\n",
              "        const docLink = document.createElement('div');\n",
              "        docLink.innerHTML = docLinkHtml;\n",
              "        element.appendChild(docLink);\n",
              "      }\n",
              "    </script>\n",
              "  </div>\n",
              "\n",
              "\n",
              "<div id=\"df-3e7fabf5-1517-4ab9-90ce-0378d1b6938a\">\n",
              "  <button class=\"colab-df-quickchart\" onclick=\"quickchart('df-3e7fabf5-1517-4ab9-90ce-0378d1b6938a')\"\n",
              "            title=\"Suggest charts.\"\n",
              "            style=\"display:none;\">\n",
              "\n",
              "<svg xmlns=\"http://www.w3.org/2000/svg\" height=\"24px\"viewBox=\"0 0 24 24\"\n",
              "     width=\"24px\">\n",
              "    <g>\n",
              "        <path d=\"M19 3H5c-1.1 0-2 .9-2 2v14c0 1.1.9 2 2 2h14c1.1 0 2-.9 2-2V5c0-1.1-.9-2-2-2zM9 17H7v-7h2v7zm4 0h-2V7h2v10zm4 0h-2v-4h2v4z\"/>\n",
              "    </g>\n",
              "</svg>\n",
              "  </button>\n",
              "\n",
              "<style>\n",
              "  .colab-df-quickchart {\n",
              "      --bg-color: #E8F0FE;\n",
              "      --fill-color: #1967D2;\n",
              "      --hover-bg-color: #E2EBFA;\n",
              "      --hover-fill-color: #174EA6;\n",
              "      --disabled-fill-color: #AAA;\n",
              "      --disabled-bg-color: #DDD;\n",
              "  }\n",
              "\n",
              "  [theme=dark] .colab-df-quickchart {\n",
              "      --bg-color: #3B4455;\n",
              "      --fill-color: #D2E3FC;\n",
              "      --hover-bg-color: #434B5C;\n",
              "      --hover-fill-color: #FFFFFF;\n",
              "      --disabled-bg-color: #3B4455;\n",
              "      --disabled-fill-color: #666;\n",
              "  }\n",
              "\n",
              "  .colab-df-quickchart {\n",
              "    background-color: var(--bg-color);\n",
              "    border: none;\n",
              "    border-radius: 50%;\n",
              "    cursor: pointer;\n",
              "    display: none;\n",
              "    fill: var(--fill-color);\n",
              "    height: 32px;\n",
              "    padding: 0;\n",
              "    width: 32px;\n",
              "  }\n",
              "\n",
              "  .colab-df-quickchart:hover {\n",
              "    background-color: var(--hover-bg-color);\n",
              "    box-shadow: 0 1px 2px rgba(60, 64, 67, 0.3), 0 1px 3px 1px rgba(60, 64, 67, 0.15);\n",
              "    fill: var(--button-hover-fill-color);\n",
              "  }\n",
              "\n",
              "  .colab-df-quickchart-complete:disabled,\n",
              "  .colab-df-quickchart-complete:disabled:hover {\n",
              "    background-color: var(--disabled-bg-color);\n",
              "    fill: var(--disabled-fill-color);\n",
              "    box-shadow: none;\n",
              "  }\n",
              "\n",
              "  .colab-df-spinner {\n",
              "    border: 2px solid var(--fill-color);\n",
              "    border-color: transparent;\n",
              "    border-bottom-color: var(--fill-color);\n",
              "    animation:\n",
              "      spin 1s steps(1) infinite;\n",
              "  }\n",
              "\n",
              "  @keyframes spin {\n",
              "    0% {\n",
              "      border-color: transparent;\n",
              "      border-bottom-color: var(--fill-color);\n",
              "      border-left-color: var(--fill-color);\n",
              "    }\n",
              "    20% {\n",
              "      border-color: transparent;\n",
              "      border-left-color: var(--fill-color);\n",
              "      border-top-color: var(--fill-color);\n",
              "    }\n",
              "    30% {\n",
              "      border-color: transparent;\n",
              "      border-left-color: var(--fill-color);\n",
              "      border-top-color: var(--fill-color);\n",
              "      border-right-color: var(--fill-color);\n",
              "    }\n",
              "    40% {\n",
              "      border-color: transparent;\n",
              "      border-right-color: var(--fill-color);\n",
              "      border-top-color: var(--fill-color);\n",
              "    }\n",
              "    60% {\n",
              "      border-color: transparent;\n",
              "      border-right-color: var(--fill-color);\n",
              "    }\n",
              "    80% {\n",
              "      border-color: transparent;\n",
              "      border-right-color: var(--fill-color);\n",
              "      border-bottom-color: var(--fill-color);\n",
              "    }\n",
              "    90% {\n",
              "      border-color: transparent;\n",
              "      border-bottom-color: var(--fill-color);\n",
              "    }\n",
              "  }\n",
              "</style>\n",
              "\n",
              "  <script>\n",
              "    async function quickchart(key) {\n",
              "      const quickchartButtonEl =\n",
              "        document.querySelector('#' + key + ' button');\n",
              "      quickchartButtonEl.disabled = true;  // To prevent multiple clicks.\n",
              "      quickchartButtonEl.classList.add('colab-df-spinner');\n",
              "      try {\n",
              "        const charts = await google.colab.kernel.invokeFunction(\n",
              "            'suggestCharts', [key], {});\n",
              "      } catch (error) {\n",
              "        console.error('Error during call to suggestCharts:', error);\n",
              "      }\n",
              "      quickchartButtonEl.classList.remove('colab-df-spinner');\n",
              "      quickchartButtonEl.classList.add('colab-df-quickchart-complete');\n",
              "    }\n",
              "    (() => {\n",
              "      let quickchartButtonEl =\n",
              "        document.querySelector('#df-3e7fabf5-1517-4ab9-90ce-0378d1b6938a button');\n",
              "      quickchartButtonEl.style.display =\n",
              "        google.colab.kernel.accessAllowed ? 'block' : 'none';\n",
              "    })();\n",
              "  </script>\n",
              "</div>\n",
              "    </div>\n",
              "  </div>\n"
            ]
          },
          "metadata": {},
          "execution_count": 9
        }
      ]
    },
    {
      "cell_type": "code",
      "source": [
        "import numpy as np"
      ],
      "metadata": {
        "id": "BOBX-qxWhD3I"
      },
      "execution_count": null,
      "outputs": []
    },
    {
      "cell_type": "code",
      "source": [
        "print(np.count_nonzero(t2)/177444)"
      ],
      "metadata": {
        "colab": {
          "base_uri": "https://localhost:8080/"
        },
        "id": "qECjDnQkg_wz",
        "outputId": "cfc1c0d0-9dcc-4e1f-d0b9-aa4d0e550142"
      },
      "execution_count": null,
      "outputs": [
        {
          "output_type": "stream",
          "name": "stdout",
          "text": [
            "0.13961587881247042\n"
          ]
        }
      ]
    },
    {
      "cell_type": "code",
      "source": [
        "confusing_code = [  51,   53,  236,  324,  366,  374,  539,  549,  738,  813,  956,\n",
        "       1154, 1187, 1230, 1339, 1506, 1640, 1781, 1840, 1870, 1873, 1874,\n",
        "       1875, 1876, 1882]"
      ],
      "metadata": {
        "id": "hkU6x_FpyCgo"
      },
      "execution_count": null,
      "outputs": []
    },
    {
      "cell_type": "code",
      "source": [
        "# text=\"Test-driven development (TDD) is a software development approach where tests are written before the actual code. This approach ensures that the software behaves as expected, reducing the number of bugs and improving the quality of the software. A typical TDD cycle involves writing a failing test, writing code to make the test pass, and then refactoring the code to improve its structure. Here's a simple example of TDD in Java. @Test public void testAdd() { Calculator calculator = new Calculator(); int result = calculator.add(2, 3); assertEquals(5, result); }\"\n",
        "for id in list(range(100,150)):\n",
        "  codelist = ''\n",
        "  text = data['Text'][str(id-1)].replace('\\n', '')\n",
        "  results = pipe(text, grouped_entities=True)\n",
        "  results.sort(key=lambda x: x['start'])\n",
        "  results = list(filter(lambda x: (x['entity_group'] == 'Value') or (x['entity_group'] == 'Variable') or\n",
        "                            (x['entity_group'] == 'Function') or (x['entity_group'] == 'Class')\n",
        "                            or (x['entity_group'] == 'Data_Type') or (x['entity_group'] == 'Code_Block'), results))\n",
        "  # print(results)\n",
        "  spans = []\n",
        "  for i in results:\n",
        "    if i['start'] != i['end']:\n",
        "      spans.append((i['start'], i['end'], i['entity_group']))\n",
        "  if(len(results) > 0):\n",
        "    codelist = text[results[0]['start'] : results[-1]['end']]\n",
        "  else:\n",
        "    codelist = ''\n",
        "  print(\"CODE\" , codelist)\n",
        "  print('\\n')\n",
        "  show_span_box_markup(text, spans)\n",
        "  print('\\n')"
      ],
      "metadata": {
        "colab": {
          "base_uri": "https://localhost:8080/",
          "height": 1000
        },
        "id": "OS7H1pWH1pcU",
        "outputId": "055b8477-9be6-44aa-fbc3-06f30f3b44aa"
      },
      "execution_count": null,
      "outputs": [
        {
          "output_type": "stream",
          "name": "stdout",
          "text": [
            "CODE \n",
            "\n",
            "\n"
          ]
        },
        {
          "output_type": "display_data",
          "data": {
            "text/plain": [
              "<IPython.core.display.HTML object>"
            ],
            "text/html": [
              "<div class=\"tex2jax_ignore\" style=\"white-space: pre-wrap\">Software development is a field that requires continuous learning. As technology evolves, so do the tools and techniques used by developers. It&#x27;s important for developers to stay up-to-date with these changes and to constantly seek out new knowledge.This doesn&#x27;t mean that developers have to know everything about every technology. Instead, it&#x27;s more about having a solid foundation of knowledge and being able to learn new things quickly. This can be achieved through a combination of formal education, self-study, and practical experience.</div>"
            ]
          },
          "metadata": {}
        },
        {
          "output_type": "stream",
          "name": "stdout",
          "text": [
            "\n",
            "\n",
            "CODE integers. Here's a simple C++ function that does this: int findMax(int arr[], int n) { int max = arr[0]; for (int i = 1; i < n; i++) if (arr[i] > max) max = arr[i]; return max\n",
            "\n",
            "\n"
          ]
        },
        {
          "output_type": "display_data",
          "data": {
            "text/plain": [
              "<IPython.core.display.HTML object>"
            ],
            "text/html": [
              "<div class=\"tex2jax_ignore\" style=\"white-space: pre-wrap\">In software development, problem-solving is a critical skill. Developers are often faced with complex issues that require creative solutions. This is where a good understanding of algorithms and data structures can come in handy.For instance, consider a problem where you need to find the largest number in an array of <span style=\"padding: 2px; border-radius: 4px; border: 1px solid #ffe0b2; background: #fff3e0\">integers<span style=\"vertical-align: middle; margin-left: 2px; font-size: 0.7em; color: #ffb74d;\">Data_Type</span></span>. Here&#x27;s a simple C++ function that does this: <span style=\"padding: 2px; border-radius: 4px; border: 1px solid #ffe0b2; background: #fff3e0\">int<span style=\"vertical-align: middle; margin-left: 2px; font-size: 0.7em; color: #ffb74d;\">Data_Type</span></span> <span style=\"padding: 2px; border-radius: 4px; border: 1px solid #d1c4e9; background: #ede7f6\">findMax<span style=\"vertical-align: middle; margin-left: 2px; font-size: 0.7em; color: #9575cd;\">Function</span></span><span style=\"padding: 2px; border-radius: 4px; border: 1px solid #bbdefb; background: #e3f2fd\">(<span style=\"vertical-align: middle; margin-left: 2px; font-size: 0.7em; color: #64b5f6;\">Code_Block</span></span><span style=\"padding: 2px; border-radius: 4px; border: 1px solid #ffe0b2; background: #fff3e0\">int<span style=\"vertical-align: middle; margin-left: 2px; font-size: 0.7em; color: #ffb74d;\">Data_Type</span></span> <span style=\"padding: 2px; border-radius: 4px; border: 1px solid #bbdefb; background: #e3f2fd\">arr[],<span style=\"vertical-align: middle; margin-left: 2px; font-size: 0.7em; color: #64b5f6;\">Code_Block</span></span> <span style=\"padding: 2px; border-radius: 4px; border: 1px solid #ffe0b2; background: #fff3e0\">int<span style=\"vertical-align: middle; margin-left: 2px; font-size: 0.7em; color: #ffb74d;\">Data_Type</span></span> <span style=\"padding: 2px; border-radius: 4px; border: 1px solid #d7ccc8; background: #efebe9\">n<span style=\"vertical-align: middle; margin-left: 2px; font-size: 0.7em; color: #a1887f;\">Variable</span></span><span style=\"padding: 2px; border-radius: 4px; border: 1px solid #bbdefb; background: #e3f2fd\">)<span style=\"vertical-align: middle; margin-left: 2px; font-size: 0.7em; color: #64b5f6;\">Code_Block</span></span> <span style=\"padding: 2px; border-radius: 4px; border: 1px solid #bbdefb; background: #e3f2fd\">{<span style=\"vertical-align: middle; margin-left: 2px; font-size: 0.7em; color: #64b5f6;\">Code_Block</span></span> <span style=\"padding: 2px; border-radius: 4px; border: 1px solid #ffe0b2; background: #fff3e0\">int<span style=\"vertical-align: middle; margin-left: 2px; font-size: 0.7em; color: #ffb74d;\">Data_Type</span></span> <span style=\"padding: 2px; border-radius: 4px; border: 1px solid #d7ccc8; background: #efebe9\">max<span style=\"vertical-align: middle; margin-left: 2px; font-size: 0.7em; color: #a1887f;\">Variable</span></span> <span style=\"padding: 2px; border-radius: 4px; border: 1px solid #bbdefb; background: #e3f2fd\">=<span style=\"vertical-align: middle; margin-left: 2px; font-size: 0.7em; color: #64b5f6;\">Code_Block</span></span> <span style=\"padding: 2px; border-radius: 4px; border: 1px solid #d7ccc8; background: #efebe9\">arr<span style=\"vertical-align: middle; margin-left: 2px; font-size: 0.7em; color: #a1887f;\">Variable</span></span><span style=\"padding: 2px; border-radius: 4px; border: 1px solid #bbdefb; background: #e3f2fd\">[0]; for (<span style=\"vertical-align: middle; margin-left: 2px; font-size: 0.7em; color: #64b5f6;\">Code_Block</span></span>int <span style=\"padding: 2px; border-radius: 4px; border: 1px solid #bbdefb; background: #e3f2fd\">i =<span style=\"vertical-align: middle; margin-left: 2px; font-size: 0.7em; color: #64b5f6;\">Code_Block</span></span> <span style=\"padding: 2px; border-radius: 4px; border: 1px solid #c8e6c9; background: #e8f5e9\">1<span style=\"vertical-align: middle; margin-left: 2px; font-size: 0.7em; color: #66bb6a;\">Value</span></span><span style=\"padding: 2px; border-radius: 4px; border: 1px solid #bbdefb; background: #e3f2fd\">; i<span style=\"vertical-align: middle; margin-left: 2px; font-size: 0.7em; color: #64b5f6;\">Code_Block</span></span> &lt; <span style=\"padding: 2px; border-radius: 4px; border: 1px solid #d7ccc8; background: #efebe9\">n<span style=\"vertical-align: middle; margin-left: 2px; font-size: 0.7em; color: #a1887f;\">Variable</span></span>; i<span style=\"padding: 2px; border-radius: 4px; border: 1px solid #bbdefb; background: #e3f2fd\">++)<span style=\"vertical-align: middle; margin-left: 2px; font-size: 0.7em; color: #64b5f6;\">Code_Block</span></span> if (<span style=\"padding: 2px; border-radius: 4px; border: 1px solid #d7ccc8; background: #efebe9\">arr<span style=\"vertical-align: middle; margin-left: 2px; font-size: 0.7em; color: #a1887f;\">Variable</span></span><span style=\"padding: 2px; border-radius: 4px; border: 1px solid #bbdefb; background: #e3f2fd\">[i]<span style=\"vertical-align: middle; margin-left: 2px; font-size: 0.7em; color: #64b5f6;\">Code_Block</span></span> &gt; <span style=\"padding: 2px; border-radius: 4px; border: 1px solid #d7ccc8; background: #efebe9\">max<span style=\"vertical-align: middle; margin-left: 2px; font-size: 0.7em; color: #a1887f;\">Variable</span></span><span style=\"padding: 2px; border-radius: 4px; border: 1px solid #bbdefb; background: #e3f2fd\">)<span style=\"vertical-align: middle; margin-left: 2px; font-size: 0.7em; color: #64b5f6;\">Code_Block</span></span> <span style=\"padding: 2px; border-radius: 4px; border: 1px solid #d7ccc8; background: #efebe9\">max<span style=\"vertical-align: middle; margin-left: 2px; font-size: 0.7em; color: #a1887f;\">Variable</span></span> = <span style=\"padding: 2px; border-radius: 4px; border: 1px solid #d7ccc8; background: #efebe9\">arr<span style=\"vertical-align: middle; margin-left: 2px; font-size: 0.7em; color: #a1887f;\">Variable</span></span>[<span style=\"padding: 2px; border-radius: 4px; border: 1px solid #bbdefb; background: #e3f2fd\">i];<span style=\"vertical-align: middle; margin-left: 2px; font-size: 0.7em; color: #64b5f6;\">Code_Block</span></span> return <span style=\"padding: 2px; border-radius: 4px; border: 1px solid #d7ccc8; background: #efebe9\">max<span style=\"vertical-align: middle; margin-left: 2px; font-size: 0.7em; color: #a1887f;\">Variable</span></span>; } This function iterates over the array and keeps track of the largest number it finds. It&#x27;s a simple solution, but it&#x27;s effective.</div>"
            ]
          },
          "metadata": {}
        },
        {
          "output_type": "stream",
          "name": "stdout",
          "text": [
            "\n",
            "\n",
            "CODE \n",
            "\n",
            "\n"
          ]
        },
        {
          "output_type": "display_data",
          "data": {
            "text/plain": [
              "<IPython.core.display.HTML object>"
            ],
            "text/html": [
              "<div class=\"tex2jax_ignore\" style=\"white-space: pre-wrap\">The software development process requires careful planning and organization. Developers often use techniques like Agile or Scrum to manage their projects and ensure that they&#x27;re working efficiently. These methodologies emphasize collaboration, flexibility, and continuous improvement.In addition to these methodologies, developers also use tools like Trello or JIRA to manage their tasks and track their progress. These tools can help teams stay organized and communicate effectively, which is crucial for successful software development.</div>"
            ]
          },
          "metadata": {}
        },
        {
          "output_type": "stream",
          "name": "stdout",
          "text": [
            "\n",
            "\n",
            "CODE \n",
            "\n",
            "\n"
          ]
        },
        {
          "output_type": "display_data",
          "data": {
            "text/plain": [
              "<IPython.core.display.HTML object>"
            ],
            "text/html": [
              "<div class=\"tex2jax_ignore\" style=\"white-space: pre-wrap\">The design phase is an important part of the software development process. It&#x27;s where developers plan out the structure of their program and decide how different components will interact with each other.One tool that&#x27;s often used in this phase is UML (Unified Modeling Language). UML diagrams can help developers visualize their program and make sure that all parts of it work together smoothly. Although it&#x27;s not a programming language, UML is a powerful tool for planning and designing software.</div>"
            ]
          },
          "metadata": {}
        },
        {
          "output_type": "stream",
          "name": "stdout",
          "text": [
            "\n",
            "\n",
            "CODE findSum(arr) { let sum = 0; for (let i = 0; i < arr.length; i++) { sum += arr[i]; } return sum\n",
            "\n",
            "\n"
          ]
        },
        {
          "output_type": "display_data",
          "data": {
            "text/plain": [
              "<IPython.core.display.HTML object>"
            ],
            "text/html": [
              "<div class=\"tex2jax_ignore\" style=\"white-space: pre-wrap\">Software development is a field that requires a wide range of skills. Developers need to be proficient in programming languages, understand algorithms and data structures, and be able to design and test software effectively.In addition to these technical skills, developers also need to have good problem-solving abilities. They need to be able to think critically and creatively to come up with solutions to complex problems. Here&#x27;s an example of a problem-solving function in JavaScript: function <span style=\"padding: 2px; border-radius: 4px; border: 1px solid #d1c4e9; background: #ede7f6\">findSum<span style=\"vertical-align: middle; margin-left: 2px; font-size: 0.7em; color: #9575cd;\">Function</span></span>(arr) { let <span style=\"padding: 2px; border-radius: 4px; border: 1px solid #d7ccc8; background: #efebe9\">sum<span style=\"vertical-align: middle; margin-left: 2px; font-size: 0.7em; color: #a1887f;\">Variable</span></span> = 0; for (let i = 0; i &lt; <span style=\"padding: 2px; border-radius: 4px; border: 1px solid #d7ccc8; background: #efebe9\">arr<span style=\"vertical-align: middle; margin-left: 2px; font-size: 0.7em; color: #a1887f;\">Variable</span></span>.length; i++) { <span style=\"padding: 2px; border-radius: 4px; border: 1px solid #d7ccc8; background: #efebe9\">sum<span style=\"vertical-align: middle; margin-left: 2px; font-size: 0.7em; color: #a1887f;\">Variable</span></span> += <span style=\"padding: 2px; border-radius: 4px; border: 1px solid #d7ccc8; background: #efebe9\">arr<span style=\"vertical-align: middle; margin-left: 2px; font-size: 0.7em; color: #a1887f;\">Variable</span></span>[i<span style=\"padding: 2px; border-radius: 4px; border: 1px solid #bbdefb; background: #e3f2fd\">];<span style=\"vertical-align: middle; margin-left: 2px; font-size: 0.7em; color: #64b5f6;\">Code_Block</span></span> } return <span style=\"padding: 2px; border-radius: 4px; border: 1px solid #d7ccc8; background: #efebe9\">sum<span style=\"vertical-align: middle; margin-left: 2px; font-size: 0.7em; color: #a1887f;\">Variable</span></span>; } This function calculates the sum of all numbers in an array. It&#x27;s a simple problem, but it requires a good understanding of JavaScript and basic programming concepts.</div>"
            ]
          },
          "metadata": {}
        },
        {
          "output_type": "stream",
          "name": "stdout",
          "text": [
            "\n",
            "\n",
            "CODE \n",
            "\n",
            "\n"
          ]
        },
        {
          "output_type": "display_data",
          "data": {
            "text/plain": [
              "<IPython.core.display.HTML object>"
            ],
            "text/html": [
              "<div class=\"tex2jax_ignore\" style=\"white-space: pre-wrap\">Documentation is an often overlooked, but incredibly important part of software development. Good documentation can make it much easier for other developers to understand and work with your code. It can also be a valuable resource for troubleshooting and debugging.There are many styles and formats for documentation, but the key is to be clear, concise, and thorough. Whether you&#x27;re writing comments in your code, creating a README file, or designing a user manual, it&#x27;s important to communicate effectively so that others can understand and use your software.</div>"
            ]
          },
          "metadata": {}
        },
        {
          "output_type": "stream",
          "name": "stdout",
          "text": [
            "\n",
            "\n",
            "CODE build - test - deploy build: stage: build script: - echo 'Building...' test: stage: test script: - echo 'Testing...' deploy: stage: deploy script: - echo 'Deploying...\n",
            "\n",
            "\n"
          ]
        },
        {
          "output_type": "display_data",
          "data": {
            "text/plain": [
              "<IPython.core.display.HTML object>"
            ],
            "text/html": [
              "<div class=\"tex2jax_ignore\" style=\"white-space: pre-wrap\">Continuous integration and continuous deployment (CI/CD) are important practices in modern software development. They involve automatically building, testing, and deploying software whenever changes are made to the codebase.Here&#x27;s an example of a YAML configuration file for a simple CI/CD pipeline: stages: - <span style=\"padding: 2px; border-radius: 4px; border: 1px solid #bbdefb; background: #e3f2fd\">build - test - deploy<span style=\"vertical-align: middle; margin-left: 2px; font-size: 0.7em; color: #64b5f6;\">Code_Block</span></span> <span style=\"padding: 2px; border-radius: 4px; border: 1px solid #bbdefb; background: #e3f2fd\">build: stage: build script:<span style=\"vertical-align: middle; margin-left: 2px; font-size: 0.7em; color: #64b5f6;\">Code_Block</span></span> - <span style=\"padding: 2px; border-radius: 4px; border: 1px solid #bbdefb; background: #e3f2fd\">echo<span style=\"vertical-align: middle; margin-left: 2px; font-size: 0.7em; color: #64b5f6;\">Code_Block</span></span> &#x27;<span style=\"padding: 2px; border-radius: 4px; border: 1px solid #bbdefb; background: #e3f2fd\">Building...<span style=\"vertical-align: middle; margin-left: 2px; font-size: 0.7em; color: #64b5f6;\">Code_Block</span></span>&#x27; <span style=\"padding: 2px; border-radius: 4px; border: 1px solid #bbdefb; background: #e3f2fd\">test: stage: test script:<span style=\"vertical-align: middle; margin-left: 2px; font-size: 0.7em; color: #64b5f6;\">Code_Block</span></span> - <span style=\"padding: 2px; border-radius: 4px; border: 1px solid #bbdefb; background: #e3f2fd\">echo<span style=\"vertical-align: middle; margin-left: 2px; font-size: 0.7em; color: #64b5f6;\">Code_Block</span></span> &#x27;<span style=\"padding: 2px; border-radius: 4px; border: 1px solid #bbdefb; background: #e3f2fd\">Testing...<span style=\"vertical-align: middle; margin-left: 2px; font-size: 0.7em; color: #64b5f6;\">Code_Block</span></span>&#x27; <span style=\"padding: 2px; border-radius: 4px; border: 1px solid #bbdefb; background: #e3f2fd\">deploy: stage: deploy script: -<span style=\"vertical-align: middle; margin-left: 2px; font-size: 0.7em; color: #64b5f6;\">Code_Block</span></span> <span style=\"padding: 2px; border-radius: 4px; border: 1px solid #bbdefb; background: #e3f2fd\">echo<span style=\"vertical-align: middle; margin-left: 2px; font-size: 0.7em; color: #64b5f6;\">Code_Block</span></span> <span style=\"padding: 2px; border-radius: 4px; border: 1px solid #bbdefb; background: #e3f2fd\">&#x27;Deploying...<span style=\"vertical-align: middle; margin-left: 2px; font-size: 0.7em; color: #64b5f6;\">Code_Block</span></span>&#x27; This file defines a pipeline with three stages: build, test, and deploy. Each stage has a script that is run when the stage is executed. It&#x27;s a basic example, but it shows how CI/CD pipelines can be configured.</div>"
            ]
          },
          "metadata": {}
        },
        {
          "output_type": "stream",
          "name": "stdout",
          "text": [
            "\n",
            "\n",
            "CODE \n",
            "\n",
            "\n"
          ]
        },
        {
          "output_type": "display_data",
          "data": {
            "text/plain": [
              "<IPython.core.display.HTML object>"
            ],
            "text/html": [
              "<div class=\"tex2jax_ignore\" style=\"white-space: pre-wrap\">Debugging is an essential skill for any software developer. It involves finding and fixing errors, or &#x27;bugs&#x27;, in a program. Debugging can be a challenging process, but it&#x27;s also a crucial part of ensuring that a program works correctly.Developers use a variety of tools and techniques to debug their programs. These can range from simple print statements to sophisticated debugging tools that allow developers to step through their code and examine the state of their program at each step.</div>"
            ]
          },
          "metadata": {}
        },
        {
          "output_type": "stream",
          "name": "stdout",
          "text": [
            "\n",
            "\n",
            "CODE git merge feature-branch This command merges the changes from 'feature-branch\n",
            "\n",
            "\n"
          ]
        },
        {
          "output_type": "display_data",
          "data": {
            "text/plain": [
              "<IPython.core.display.HTML object>"
            ],
            "text/html": [
              "<div class=\"tex2jax_ignore\" style=\"white-space: pre-wrap\">Software development is a field that involves a lot of collaboration. Developers often work in teams, and it&#x27;s important to be able to communicate effectively with your teammates.One tool that can help with this is Git, a version control system that allows multiple developers to work on the same codebase without stepping on each other&#x27;s toes. Here&#x27;s an example of a Git command that merges changes from one branch into another: <span style=\"padding: 2px; border-radius: 4px; border: 1px solid #bbdefb; background: #e3f2fd\">git merge feature-branch<span style=\"vertical-align: middle; margin-left: 2px; font-size: 0.7em; color: #64b5f6;\">Code_Block</span></span> This command merges the changes from <span style=\"padding: 2px; border-radius: 4px; border: 1px solid #bbdefb; background: #e3f2fd\">&#x27;feature-branch<span style=\"vertical-align: middle; margin-left: 2px; font-size: 0.7em; color: #64b5f6;\">Code_Block</span></span>&#x27; into the currently checked out branch.</div>"
            ]
          },
          "metadata": {}
        },
        {
          "output_type": "stream",
          "name": "stdout",
          "text": [
            "\n",
            "\n",
            "CODE singleton in C#: public class Singleton { private static Singleton instance; private Singleton() {} public static Singleton Instance { get { if (instance == null) { instance = new Singleton(); } return instance; } } } This code creates a Singleton\n",
            "\n",
            "\n"
          ]
        },
        {
          "output_type": "display_data",
          "data": {
            "text/plain": [
              "<IPython.core.display.HTML object>"
            ],
            "text/html": [
              "<div class=\"tex2jax_ignore\" style=\"white-space: pre-wrap\">In software development, design patterns are reusable solutions to common problems. These patterns aren&#x27;t code snippets that can be copied and pasted, but rather general strategies that can be adapted to fit specific situations.One common design pattern is the singleton pattern, which ensures that a class has only one instance and provides a global point of access to it. Here&#x27;s an example of a <span style=\"padding: 2px; border-radius: 4px; border: 1px solid #c8e6c9; background: #e8f5e9\">single<span style=\"vertical-align: middle; margin-left: 2px; font-size: 0.7em; color: #66bb6a;\">Class</span></span>ton in C#: <span style=\"padding: 2px; border-radius: 4px; border: 1px solid #bbdefb; background: #e3f2fd\">public<span style=\"vertical-align: middle; margin-left: 2px; font-size: 0.7em; color: #64b5f6;\">Code_Block</span></span> class <span style=\"padding: 2px; border-radius: 4px; border: 1px solid #c8e6c9; background: #e8f5e9\">Singleton<span style=\"vertical-align: middle; margin-left: 2px; font-size: 0.7em; color: #66bb6a;\">Class</span></span> <span style=\"padding: 2px; border-radius: 4px; border: 1px solid #bbdefb; background: #e3f2fd\">{ private static Singleton instance; private Singleton() {} public static Singleton Instance { get { if (instance == null) { instance = new Singleton(); } return instance; } } }<span style=\"vertical-align: middle; margin-left: 2px; font-size: 0.7em; color: #64b5f6;\">Code_Block</span></span> This code creates a <span style=\"padding: 2px; border-radius: 4px; border: 1px solid #c8e6c9; background: #e8f5e9\">Sing<span style=\"vertical-align: middle; margin-left: 2px; font-size: 0.7em; color: #66bb6a;\">Class</span></span><span style=\"padding: 2px; border-radius: 4px; border: 1px solid #c8e6c9; background: #e8f5e9\">leton<span style=\"vertical-align: middle; margin-left: 2px; font-size: 0.7em; color: #66bb6a;\">Class</span></span> class that only allows one instance of itself to be created.</div>"
            ]
          },
          "metadata": {}
        },
        {
          "output_type": "stream",
          "name": "stdout",
          "text": [
            "\n",
            "\n",
            "CODE print('Hello, World!').\n",
            "\n",
            "\n"
          ]
        },
        {
          "output_type": "display_data",
          "data": {
            "text/plain": [
              "<IPython.core.display.HTML object>"
            ],
            "text/html": [
              "<div class=\"tex2jax_ignore\" style=\"white-space: pre-wrap\">Software development is a fascinating field. It requires constant learning and adaptation to new technologies and methodologies. In the world of software development, one of the most popular languages is Python. It is known for its easy syntax and versatility. For instance, to print a simple message, you would type <span style=\"padding: 2px; border-radius: 4px; border: 1px solid #bbdefb; background: #e3f2fd\">print(&#x27;<span style=\"vertical-align: middle; margin-left: 2px; font-size: 0.7em; color: #64b5f6;\">Code_Block</span></span><span style=\"padding: 2px; border-radius: 4px; border: 1px solid #c8e6c9; background: #e8f5e9\">Hello, World<span style=\"vertical-align: middle; margin-left: 2px; font-size: 0.7em; color: #66bb6a;\">Value</span></span><span style=\"padding: 2px; border-radius: 4px; border: 1px solid #bbdefb; background: #e3f2fd\">!&#x27;).<span style=\"vertical-align: middle; margin-left: 2px; font-size: 0.7em; color: #64b5f6;\">Code_Block</span></span> The simplicity of the language makes it a favorite among beginners and experts alike.Python is not only used in web development, but also in data analysis, artificial intelligence, and machine learning. It&#x27;s a tool that can open many doors in the tech industry.</div>"
            ]
          },
          "metadata": {}
        },
        {
          "output_type": "stream",
          "name": "stdout",
          "text": [
            "\n",
            "\n",
            "CODE 'Hello, World!' program in C++, you would write: #include <iostream>int main() {std::cout << 'Hello, World!';return 0;}.\n",
            "\n",
            "\n"
          ]
        },
        {
          "output_type": "display_data",
          "data": {
            "text/plain": [
              "<IPython.core.display.HTML object>"
            ],
            "text/html": [
              "<div class=\"tex2jax_ignore\" style=\"white-space: pre-wrap\">When it comes to software development, understanding the basics is crucial. Beginners often start with languages like Python or JavaScript, but eventually, they may want to explore more complex languages such as C++. C++ is a statically typed, free-form, multi-paradigm, compiled, general-purpose programming language. It is widely used for system and application software, game development, drivers, client-server applications and embedded firmware. For example, to create a simple <span style=\"padding: 2px; border-radius: 4px; border: 1px solid #c8e6c9; background: #e8f5e9\">&#x27;Hello, World!&#x27;<span style=\"vertical-align: middle; margin-left: 2px; font-size: 0.7em; color: #66bb6a;\">Value</span></span> program in C++, you would write: <span style=\"padding: 2px; border-radius: 4px; border: 1px solid #bbdefb; background: #e3f2fd\">#include &lt;iostream&gt;int main() {std::cout &lt;&lt; &#x27;Hello, World!&#x27;;<span style=\"vertical-align: middle; margin-left: 2px; font-size: 0.7em; color: #64b5f6;\">Code_Block</span></span><span style=\"padding: 2px; border-radius: 4px; border: 1px solid #bbdefb; background: #e3f2fd\">return 0;}.<span style=\"vertical-align: middle; margin-left: 2px; font-size: 0.7em; color: #64b5f6;\">Code_Block</span></span></div>"
            ]
          },
          "metadata": {}
        },
        {
          "output_type": "stream",
          "name": "stdout",
          "text": [
            "\n",
            "\n",
            "CODE \n",
            "\n",
            "\n"
          ]
        },
        {
          "output_type": "display_data",
          "data": {
            "text/plain": [
              "<IPython.core.display.HTML object>"
            ],
            "text/html": [
              "<div class=\"tex2jax_ignore\" style=\"white-space: pre-wrap\">Software development is a process of writing and maintaining the source code. It includes everything from the initial concept, to the final product. In the world of software development, there are many types of software such as system software, application software, embedded software, web applications, artificial intelligence. The process of software development includes many stages such as requirement gathering, system design, coding, testing, maintenance and more. Each stage requires a different set of skills and knowledge. This is why a team of developers often includes people with different specialties.</div>"
            ]
          },
          "metadata": {}
        },
        {
          "output_type": "stream",
          "name": "stdout",
          "text": [
            "\n",
            "\n",
            "CODE function addNumbers(a, b) { return a + b; }. This function takes two parameters, 'a' and 'b\n",
            "\n",
            "\n"
          ]
        },
        {
          "output_type": "display_data",
          "data": {
            "text/plain": [
              "<IPython.core.display.HTML object>"
            ],
            "text/html": [
              "<div class=\"tex2jax_ignore\" style=\"white-space: pre-wrap\">In the realm of software development, JavaScript is another language that holds significant importance. Originally developed for the web, it has now found its way into various other environments thanks to Node.js.In JavaScript, a simple function to add two numbers could look like this: <span style=\"padding: 2px; border-radius: 4px; border: 1px solid #bbdefb; background: #e3f2fd\">function addNumbers(a, b) { return a + b; }<span style=\"vertical-align: middle; margin-left: 2px; font-size: 0.7em; color: #64b5f6;\">Code_Block</span></span>. This function takes two parameters, &#x27;<span style=\"padding: 2px; border-radius: 4px; border: 1px solid #d7ccc8; background: #efebe9\">a<span style=\"vertical-align: middle; margin-left: 2px; font-size: 0.7em; color: #a1887f;\">Variable</span></span>&#x27; and &#x27;<span style=\"padding: 2px; border-radius: 4px; border: 1px solid #d7ccc8; background: #efebe9\">b<span style=\"vertical-align: middle; margin-left: 2px; font-size: 0.7em; color: #a1887f;\">Variable</span></span>&#x27;, and returns their sum. This is a simple demonstration of how JavaScript functions work. They can be a lot more complex and powerful, depending on the needs of the application.</div>"
            ]
          },
          "metadata": {}
        },
        {
          "output_type": "stream",
          "name": "stdout",
          "text": [
            "\n",
            "\n",
            "CODE \n",
            "\n",
            "\n"
          ]
        },
        {
          "output_type": "display_data",
          "data": {
            "text/plain": [
              "<IPython.core.display.HTML object>"
            ],
            "text/html": [
              "<div class=\"tex2jax_ignore\" style=\"white-space: pre-wrap\">Software development is a complex process that requires a wide range of skills. One of these skills is the ability to write efficient and maintainable code. This is where the knowledge of a powerful language like Java comes into play.Java is a high-level, class-based, object-oriented programming language that is designed to have as few implementation dependencies as possible. It is a general-purpose programming language intended to let application developers write once, run anywhere (WORA), meaning that compiled Java code can run on all platforms that support Java without the need for recompilation.</div>"
            ]
          },
          "metadata": {}
        },
        {
          "output_type": "stream",
          "name": "stdout",
          "text": [
            "\n",
            "\n",
            "CODE integers: func add(a: Int, b: Int) -> Int {return a + b}.\n",
            "\n",
            "\n"
          ]
        },
        {
          "output_type": "display_data",
          "data": {
            "text/plain": [
              "<IPython.core.display.HTML object>"
            ],
            "text/html": [
              "<div class=\"tex2jax_ignore\" style=\"white-space: pre-wrap\">Swift is a powerful and intuitive programming language developed by Apple for iOS, macOS, watchOS, and tvOS. Writing Swift code is interactive and fun, the syntax is concise yet expressive, and Swift includes modern features developers love.For example, here is how you can define a simple function in Swift that sums two <span style=\"padding: 2px; border-radius: 4px; border: 1px solid #ffe0b2; background: #fff3e0\">integers<span style=\"vertical-align: middle; margin-left: 2px; font-size: 0.7em; color: #ffb74d;\">Data_Type</span></span>: <span style=\"padding: 2px; border-radius: 4px; border: 1px solid #bbdefb; background: #e3f2fd\">func add(a:<span style=\"vertical-align: middle; margin-left: 2px; font-size: 0.7em; color: #64b5f6;\">Code_Block</span></span> <span style=\"padding: 2px; border-radius: 4px; border: 1px solid #ffe0b2; background: #fff3e0\">Int<span style=\"vertical-align: middle; margin-left: 2px; font-size: 0.7em; color: #ffb74d;\">Data_Type</span></span><span style=\"padding: 2px; border-radius: 4px; border: 1px solid #bbdefb; background: #e3f2fd\">, b:<span style=\"vertical-align: middle; margin-left: 2px; font-size: 0.7em; color: #64b5f6;\">Code_Block</span></span> <span style=\"padding: 2px; border-radius: 4px; border: 1px solid #ffe0b2; background: #fff3e0\">Int<span style=\"vertical-align: middle; margin-left: 2px; font-size: 0.7em; color: #ffb74d;\">Data_Type</span></span><span style=\"padding: 2px; border-radius: 4px; border: 1px solid #bbdefb; background: #e3f2fd\">) -&gt;<span style=\"vertical-align: middle; margin-left: 2px; font-size: 0.7em; color: #64b5f6;\">Code_Block</span></span> <span style=\"padding: 2px; border-radius: 4px; border: 1px solid #ffe0b2; background: #fff3e0\">Int<span style=\"vertical-align: middle; margin-left: 2px; font-size: 0.7em; color: #ffb74d;\">Data_Type</span></span> <span style=\"padding: 2px; border-radius: 4px; border: 1px solid #bbdefb; background: #e3f2fd\">{return a + b}.<span style=\"vertical-align: middle; margin-left: 2px; font-size: 0.7em; color: #64b5f6;\">Code_Block</span></span> Swift&#x27;s clean syntax and first-class functions make it a very expressive language.</div>"
            ]
          },
          "metadata": {}
        },
        {
          "output_type": "stream",
          "name": "stdout",
          "text": [
            "\n",
            "\n",
            "CODE \n",
            "\n",
            "\n"
          ]
        },
        {
          "output_type": "display_data",
          "data": {
            "text/plain": [
              "<IPython.core.display.HTML object>"
            ],
            "text/html": [
              "<div class=\"tex2jax_ignore\" style=\"white-space: pre-wrap\">Software development is not just about writing code. It involves numerous stages including planning, designing, coding, testing, and maintenance. Each stage is crucial to the development process and requires different skills and expertise.In addition to these, a good understanding of the tools and technologies used in the field is also important. These include programming languages, development methodologies, databases, version control systems, and testing tools. Continuous learning and staying updated with the latest trends is the key to being successful in this field.</div>"
            ]
          },
          "metadata": {}
        },
        {
          "output_type": "stream",
          "name": "stdout",
          "text": [
            "\n",
            "\n",
            "CODE 'Hello, World!' program in C# looks like this: using System;class Program {static void Main() {Console.WriteLine('Hello, World!');}}\n",
            "\n",
            "\n"
          ]
        },
        {
          "output_type": "display_data",
          "data": {
            "text/plain": [
              "<IPython.core.display.HTML object>"
            ],
            "text/html": [
              "<div class=\"tex2jax_ignore\" style=\"white-space: pre-wrap\">In software development, C# is a powerful language developed by Microsoft. It is a modern, general-purpose, object-oriented programming language designed around the Common Language Infrastructure.A simple <span style=\"padding: 2px; border-radius: 4px; border: 1px solid #c8e6c9; background: #e8f5e9\">&#x27;Hello, World!&#x27;<span style=\"vertical-align: middle; margin-left: 2px; font-size: 0.7em; color: #66bb6a;\">Value</span></span> program in C# looks like this: using <span style=\"padding: 2px; border-radius: 4px; border: 1px solid #bbdefb; background: #e3f2fd\">System;class Program {static void Main() {Console.WriteLine(&#x27;Hello, World!&#x27;);}}<span style=\"vertical-align: middle; margin-left: 2px; font-size: 0.7em; color: #64b5f6;\">Code_Block</span></span>. As you can see, the syntax of C# is somewhat similar to Java and C++, making it easier for developers to learn if they are already familiar with these languages.</div>"
            ]
          },
          "metadata": {}
        },
        {
          "output_type": "stream",
          "name": "stdout",
          "text": [
            "\n",
            "\n",
            "CODE fun add(a: Int, b: Int): Int {return a + b}.\n",
            "\n",
            "\n"
          ]
        },
        {
          "output_type": "display_data",
          "data": {
            "text/plain": [
              "<IPython.core.display.HTML object>"
            ],
            "text/html": [
              "<div class=\"tex2jax_ignore\" style=\"white-space: pre-wrap\">Another language that is widely used in software development is Kotlin. It is a statically typed programming language designed by JetBrains. The design of the language is based on the principles of safety, interoperability, clarity, and tooling support.A simple function in Kotlin to add two numbers looks like this: <span style=\"padding: 2px; border-radius: 4px; border: 1px solid #bbdefb; background: #e3f2fd\">fun add(a: Int, b: Int): Int {return a + b}.<span style=\"vertical-align: middle; margin-left: 2px; font-size: 0.7em; color: #64b5f6;\">Code_Block</span></span> Kotlin&#x27;s syntax is expressive and concise, making it a great choice for both beginners and experienced developers.</div>"
            ]
          },
          "metadata": {}
        },
        {
          "output_type": "stream",
          "name": "stdout",
          "text": [
            "\n",
            "\n",
            "CODE \n",
            "\n",
            "\n"
          ]
        },
        {
          "output_type": "display_data",
          "data": {
            "text/plain": [
              "<IPython.core.display.HTML object>"
            ],
            "text/html": [
              "<div class=\"tex2jax_ignore\" style=\"white-space: pre-wrap\">Software development is a dynamic field, with new technologies and trends emerging regularly. To stay relevant, developers need to continuously learn and adapt. Whether it&#x27;s learning a new programming language, understanding a new framework, or getting familiar with a new tool, there&#x27;s always something new to learn.Regardless of the language or technology you&#x27;re working with, the fundamentals of software development remain the same. Good problem-solving skills, a strong understanding of algorithms and data structures, and a knack for logical thinking are all essential.</div>"
            ]
          },
          "metadata": {}
        },
        {
          "output_type": "stream",
          "name": "stdout",
          "text": [
            "\n",
            "\n",
            "CODE my_list = []my_list.append('Hello')my_list.append('World')print(my_list).\n",
            "\n",
            "\n"
          ]
        },
        {
          "output_type": "display_data",
          "data": {
            "text/plain": [
              "<IPython.core.display.HTML object>"
            ],
            "text/html": [
              "<div class=\"tex2jax_ignore\" style=\"white-space: pre-wrap\">Software development involves a lot of problem-solving. This is where a good understanding of algorithms and data structures comes in. They form the basis of writing efficient and scalable code.For example, in Python, you can use the built-in data structure &#x27;list&#x27; to store and manipulate a collection of items. Here is a simple code snippet that demonstrates how to use a list in Python: <span style=\"padding: 2px; border-radius: 4px; border: 1px solid #bbdefb; background: #e3f2fd\">my_list = []my_list.append(&#x27;Hello&#x27;)my_list.append(&#x27;World&#x27;)<span style=\"vertical-align: middle; margin-left: 2px; font-size: 0.7em; color: #64b5f6;\">Code_Block</span></span><span style=\"padding: 2px; border-radius: 4px; border: 1px solid #bbdefb; background: #e3f2fd\">print(my_list).<span style=\"vertical-align: middle; margin-left: 2px; font-size: 0.7em; color: #64b5f6;\">Code_Block</span></span></div>"
            ]
          },
          "metadata": {}
        },
        {
          "output_type": "stream",
          "name": "stdout",
          "text": [
            "\n",
            "\n",
            "CODE function factorial(n) {if (n === 0) {return 1;} else {return n * factorial(n - 1);}}. This recursive function multiplies the number by the factorial of the number minus one, until it reaches zero, at which point it returns 1\n",
            "\n",
            "\n"
          ]
        },
        {
          "output_type": "display_data",
          "data": {
            "text/plain": [
              "<IPython.core.display.HTML object>"
            ],
            "text/html": [
              "<div class=\"tex2jax_ignore\" style=\"white-space: pre-wrap\">In the world of software development, JavaScript is a versatile language widely used for both client-side and server-side development. It lies at the heart of dynamic web content and has revolutionized the way we interact with websites.For instance, a simple JavaScript function to calculate the factorial of a number could look like this: <span style=\"padding: 2px; border-radius: 4px; border: 1px solid #bbdefb; background: #e3f2fd\">function<span style=\"vertical-align: middle; margin-left: 2px; font-size: 0.7em; color: #64b5f6;\">Code_Block</span></span> <span style=\"padding: 2px; border-radius: 4px; border: 1px solid #d1c4e9; background: #ede7f6\">factorial<span style=\"vertical-align: middle; margin-left: 2px; font-size: 0.7em; color: #9575cd;\">Function</span></span><span style=\"padding: 2px; border-radius: 4px; border: 1px solid #bbdefb; background: #e3f2fd\">(n) {if (n === 0) {return 1;} else {return n * factorial(n - 1);}}<span style=\"vertical-align: middle; margin-left: 2px; font-size: 0.7em; color: #64b5f6;\">Code_Block</span></span>. This recursive function multiplies the number by the factorial of the number minus one, until it reaches <span style=\"padding: 2px; border-radius: 4px; border: 1px solid #c8e6c9; background: #e8f5e9\">zero<span style=\"vertical-align: middle; margin-left: 2px; font-size: 0.7em; color: #66bb6a;\">Value</span></span>, at which point it returns <span style=\"padding: 2px; border-radius: 4px; border: 1px solid #c8e6c9; background: #e8f5e9\">1<span style=\"vertical-align: middle; margin-left: 2px; font-size: 0.7em; color: #66bb6a;\">Value</span></span>.</div>"
            ]
          },
          "metadata": {}
        },
        {
          "output_type": "stream",
          "name": "stdout",
          "text": [
            "\n",
            "\n",
            "CODE \n",
            "\n",
            "\n"
          ]
        },
        {
          "output_type": "display_data",
          "data": {
            "text/plain": [
              "<IPython.core.display.HTML object>"
            ],
            "text/html": [
              "<div class=\"tex2jax_ignore\" style=\"white-space: pre-wrap\">The field of software development is constantly evolving. New languages, frameworks, and tools are regularly introduced. Developers need to keep up with these changes to stay relevant and competitive.Some of the newest languages that have gained popularity in the recent years include Go and Rust. They are designed to solve some of the issues present in older languages, and offer better performance and safety features. Whether you&#x27;re a beginner or an experienced developer, learning a new language can always open up new opportunities.</div>"
            ]
          },
          "metadata": {}
        },
        {
          "output_type": "stream",
          "name": "stdout",
          "text": [
            "\n",
            "\n",
            "CODE 'Hello, World!' to the console: puts 'Hello, World!'.\n",
            "\n",
            "\n"
          ]
        },
        {
          "output_type": "display_data",
          "data": {
            "text/plain": [
              "<IPython.core.display.HTML object>"
            ],
            "text/html": [
              "<div class=\"tex2jax_ignore\" style=\"white-space: pre-wrap\">In the realm of software development, Ruby has gained popularity for its simplicity and readability. It is a dynamic, open source programming language with a focus on simplicity and productivity.Here is an example of a simple Ruby program that prints <span style=\"padding: 2px; border-radius: 4px; border: 1px solid #c8e6c9; background: #e8f5e9\">&#x27;Hello, World!&#x27;<span style=\"vertical-align: middle; margin-left: 2px; font-size: 0.7em; color: #66bb6a;\">Value</span></span> to the console: puts <span style=\"padding: 2px; border-radius: 4px; border: 1px solid #c8e6c9; background: #e8f5e9\">&#x27;Hello, World!<span style=\"vertical-align: middle; margin-left: 2px; font-size: 0.7em; color: #66bb6a;\">Value</span></span><span style=\"padding: 2px; border-radius: 4px; border: 1px solid #c8e6c9; background: #e8f5e9\">&#x27;.<span style=\"vertical-align: middle; margin-left: 2px; font-size: 0.7em; color: #66bb6a;\">Value</span></span> This one-liner demonstrates the simplicity of Ruby&#x27;s syntax, which is designed to be easy to read and write.</div>"
            ]
          },
          "metadata": {}
        },
        {
          "output_type": "stream",
          "name": "stdout",
          "text": [
            "\n",
            "\n",
            "CODE 'Hello, World!' program in Rust could be written as: fn main() {println!('Hello, World!');}.\n",
            "\n",
            "\n"
          ]
        },
        {
          "output_type": "display_data",
          "data": {
            "text/plain": [
              "<IPython.core.display.HTML object>"
            ],
            "text/html": [
              "<div class=\"tex2jax_ignore\" style=\"white-space: pre-wrap\">In software development, Rust is a language that has been rapidly gaining popularity. Developed by Mozilla, Rust is designed to be safe, concurrent, and practical. It is a systems programming language that runs blazingly fast, prevents segfaults, and guarantees thread safety.For example, a simple <span style=\"padding: 2px; border-radius: 4px; border: 1px solid #c8e6c9; background: #e8f5e9\">&#x27;Hello, World!&#x27;<span style=\"vertical-align: middle; margin-left: 2px; font-size: 0.7em; color: #66bb6a;\">Value</span></span> program in Rust could be written as: <span style=\"padding: 2px; border-radius: 4px; border: 1px solid #bbdefb; background: #e3f2fd\">fn main() {println!(&#x27;Hello, World!&#x27;);}.<span style=\"vertical-align: middle; margin-left: 2px; font-size: 0.7em; color: #64b5f6;\">Code_Block</span></span> Rust&#x27;s syntax is influenced by C++, but it aims to provide better memory safety while maintaining high performance.</div>"
            ]
          },
          "metadata": {}
        },
        {
          "output_type": "stream",
          "name": "stdout",
          "text": [
            "\n",
            "\n",
            "CODE int max(int[] array) { int max = array[0]; for (int i = 1; i < array.length; i++) { if (array[i] > max) { max = array[i]; } } return max\n",
            "\n",
            "\n"
          ]
        },
        {
          "output_type": "display_data",
          "data": {
            "text/plain": [
              "<IPython.core.display.HTML object>"
            ],
            "text/html": [
              "<div class=\"tex2jax_ignore\" style=\"white-space: pre-wrap\">Software development is a multifaceted profession. We have to deal with a variety of tasks, from understanding user requirements to delivering high-quality applications. One of the most critical aspects of software development is writing efficient code. A famous example of this is the Java method for finding the maximum value in an array. public static <span style=\"padding: 2px; border-radius: 4px; border: 1px solid #ffe0b2; background: #fff3e0\">int<span style=\"vertical-align: middle; margin-left: 2px; font-size: 0.7em; color: #ffb74d;\">Data_Type</span></span> max<span style=\"padding: 2px; border-radius: 4px; border: 1px solid #bbdefb; background: #e3f2fd\">(<span style=\"vertical-align: middle; margin-left: 2px; font-size: 0.7em; color: #64b5f6;\">Code_Block</span></span><span style=\"padding: 2px; border-radius: 4px; border: 1px solid #ffe0b2; background: #fff3e0\">int<span style=\"vertical-align: middle; margin-left: 2px; font-size: 0.7em; color: #ffb74d;\">Data_Type</span></span><span style=\"padding: 2px; border-radius: 4px; border: 1px solid #bbdefb; background: #e3f2fd\">[]<span style=\"vertical-align: middle; margin-left: 2px; font-size: 0.7em; color: #64b5f6;\">Code_Block</span></span> <span style=\"padding: 2px; border-radius: 4px; border: 1px solid #d7ccc8; background: #efebe9\">array<span style=\"vertical-align: middle; margin-left: 2px; font-size: 0.7em; color: #a1887f;\">Variable</span></span><span style=\"padding: 2px; border-radius: 4px; border: 1px solid #d1c4e9; background: #ede7f6\">)<span style=\"vertical-align: middle; margin-left: 2px; font-size: 0.7em; color: #9575cd;\">Function</span></span> <span style=\"padding: 2px; border-radius: 4px; border: 1px solid #bbdefb; background: #e3f2fd\">{<span style=\"vertical-align: middle; margin-left: 2px; font-size: 0.7em; color: #64b5f6;\">Code_Block</span></span> <span style=\"padding: 2px; border-radius: 4px; border: 1px solid #ffe0b2; background: #fff3e0\">int<span style=\"vertical-align: middle; margin-left: 2px; font-size: 0.7em; color: #ffb74d;\">Data_Type</span></span> <span style=\"padding: 2px; border-radius: 4px; border: 1px solid #d7ccc8; background: #efebe9\">max<span style=\"vertical-align: middle; margin-left: 2px; font-size: 0.7em; color: #a1887f;\">Variable</span></span> = <span style=\"padding: 2px; border-radius: 4px; border: 1px solid #d7ccc8; background: #efebe9\">array<span style=\"vertical-align: middle; margin-left: 2px; font-size: 0.7em; color: #a1887f;\">Variable</span></span>[0<span style=\"padding: 2px; border-radius: 4px; border: 1px solid #bbdefb; background: #e3f2fd\">];<span style=\"vertical-align: middle; margin-left: 2px; font-size: 0.7em; color: #64b5f6;\">Code_Block</span></span> for (int i = 1; i &lt; <span style=\"padding: 2px; border-radius: 4px; border: 1px solid #d7ccc8; background: #efebe9\">array<span style=\"vertical-align: middle; margin-left: 2px; font-size: 0.7em; color: #a1887f;\">Variable</span></span>.length; i++) { if (<span style=\"padding: 2px; border-radius: 4px; border: 1px solid #d7ccc8; background: #efebe9\">array<span style=\"vertical-align: middle; margin-left: 2px; font-size: 0.7em; color: #a1887f;\">Variable</span></span>[i<span style=\"padding: 2px; border-radius: 4px; border: 1px solid #bbdefb; background: #e3f2fd\">]<span style=\"vertical-align: middle; margin-left: 2px; font-size: 0.7em; color: #64b5f6;\">Code_Block</span></span> &gt; max) { <span style=\"padding: 2px; border-radius: 4px; border: 1px solid #d7ccc8; background: #efebe9\">max<span style=\"vertical-align: middle; margin-left: 2px; font-size: 0.7em; color: #a1887f;\">Variable</span></span> = <span style=\"padding: 2px; border-radius: 4px; border: 1px solid #d7ccc8; background: #efebe9\">array<span style=\"vertical-align: middle; margin-left: 2px; font-size: 0.7em; color: #a1887f;\">Variable</span></span>[i<span style=\"padding: 2px; border-radius: 4px; border: 1px solid #bbdefb; background: #e3f2fd\">]; }<span style=\"vertical-align: middle; margin-left: 2px; font-size: 0.7em; color: #64b5f6;\">Code_Block</span></span> } return <span style=\"padding: 2px; border-radius: 4px; border: 1px solid #d7ccc8; background: #efebe9\">max<span style=\"vertical-align: middle; margin-left: 2px; font-size: 0.7em; color: #a1887f;\">Variable</span></span>; } This method iterates through the array and keeps track of the maximum value, which is then returned.</div>"
            ]
          },
          "metadata": {}
        },
        {
          "output_type": "stream",
          "name": "stdout",
          "text": [
            "\n",
            "\n",
            "CODE Console.WriteLine('Hello, World!');\n",
            "\n",
            "\n"
          ]
        },
        {
          "output_type": "display_data",
          "data": {
            "text/plain": [
              "<IPython.core.display.HTML object>"
            ],
            "text/html": [
              "<div class=\"tex2jax_ignore\" style=\"white-space: pre-wrap\">One of the most remarkable things about software development is the variety of programming languages available. While Python is favored for its simplicity and readability, JavaScript is renowned for its versatility and ubiquity in web development. While there is no single &#x27;best&#x27; language, it&#x27;s crucial to choose the right tool for the job. The C# language, for instance, is often used in enterprise applications. <span style=\"padding: 2px; border-radius: 4px; border: 1px solid #bbdefb; background: #e3f2fd\">Console.WriteLine(&#x27;Hello, World!&#x27;);<span style=\"vertical-align: middle; margin-left: 2px; font-size: 0.7em; color: #64b5f6;\">Code_Block</span></span> is the most basic C# command, outputting a greeting to the user.</div>"
            ]
          },
          "metadata": {}
        },
        {
          "output_type": "stream",
          "name": "stdout",
          "text": [
            "\n",
            "\n",
            "CODE n\n",
            "\n",
            "\n"
          ]
        },
        {
          "output_type": "display_data",
          "data": {
            "text/plain": [
              "<IPython.core.display.HTML object>"
            ],
            "text/html": [
              "<div class=\"tex2jax_ignore\" style=\"white-space: pre-wrap\">In software development, understanding data structures and algorithms is crucial. These concepts form the basis for writing efficient code. For instance, a binary search algorithm, implemented in Python, can find a target value in a sorted array in O(log n) time. This is significantly faster than a linear search, which has a worst-case time complexity of O(<span style=\"padding: 2px; border-radius: 4px; border: 1px solid #bbdefb; background: #e3f2fd\">n<span style=\"vertical-align: middle; margin-left: 2px; font-size: 0.7em; color: #64b5f6;\">Code_Block</span></span>).</div>"
            ]
          },
          "metadata": {}
        },
        {
          "output_type": "stream",
          "name": "stdout",
          "text": [
            "\n",
            "\n",
            "CODE \n",
            "\n",
            "\n"
          ]
        },
        {
          "output_type": "display_data",
          "data": {
            "text/plain": [
              "<IPython.core.display.HTML object>"
            ],
            "text/html": [
              "<div class=\"tex2jax_ignore\" style=\"white-space: pre-wrap\">Software development methodologies play a significant role in the successful completion of a project. Agile, one of the most popular methodologies, emphasizes iterative development, customer collaboration, and responding to change. On the other hand, the waterfall model is a linear approach, where each stage follows sequentially from the previous one. Choosing the right methodology depends on the nature and requirements of the project.</div>"
            ]
          },
          "metadata": {}
        },
        {
          "output_type": "stream",
          "name": "stdout",
          "text": [
            "\n",
            "\n",
            "CODE test('adds 1 + 2 to equal 3', () => { expect(sum(1, 2)).toBe(3); }); This test checks if the sum function correctly adds 1 and 2 to give 3\n",
            "\n",
            "\n"
          ]
        },
        {
          "output_type": "display_data",
          "data": {
            "text/plain": [
              "<IPython.core.display.HTML object>"
            ],
            "text/html": [
              "<div class=\"tex2jax_ignore\" style=\"white-space: pre-wrap\">Software testing is an integral part of the development process. It helps to ensure that the software behaves as expected and identifies any bugs or issues. Unit testing, in particular, is a method where individual components of the software are tested. The following is a simple unit test written in JavaScript using the Jest testing framework. <span style=\"padding: 2px; border-radius: 4px; border: 1px solid #bbdefb; background: #e3f2fd\">test(&#x27;adds 1 + 2 to equal 3&#x27;, () =&gt; { expect(sum(1, 2)).toBe(3); });<span style=\"vertical-align: middle; margin-left: 2px; font-size: 0.7em; color: #64b5f6;\">Code_Block</span></span> This test checks if the <span style=\"padding: 2px; border-radius: 4px; border: 1px solid #d1c4e9; background: #ede7f6\">sum<span style=\"vertical-align: middle; margin-left: 2px; font-size: 0.7em; color: #9575cd;\">Function</span></span> function correctly adds <span style=\"padding: 2px; border-radius: 4px; border: 1px solid #c8e6c9; background: #e8f5e9\">1<span style=\"vertical-align: middle; margin-left: 2px; font-size: 0.7em; color: #66bb6a;\">Value</span></span> and <span style=\"padding: 2px; border-radius: 4px; border: 1px solid #c8e6c9; background: #e8f5e9\">2<span style=\"vertical-align: middle; margin-left: 2px; font-size: 0.7em; color: #66bb6a;\">Value</span></span> to give <span style=\"padding: 2px; border-radius: 4px; border: 1px solid #c8e6c9; background: #e8f5e9\">3<span style=\"vertical-align: middle; margin-left: 2px; font-size: 0.7em; color: #66bb6a;\">Value</span></span>.</div>"
            ]
          },
          "metadata": {}
        },
        {
          "output_type": "stream",
          "name": "stdout",
          "text": [
            "\n",
            "\n",
            "CODE Hello World application in Java might look like this: public class HelloWorld {public static void main(String[] args) {System.out.println('Hello, World!');}} It's a simple, yet powerful statement that prints out the greeting 'Hello, World!'\n",
            "\n",
            "\n"
          ]
        },
        {
          "output_type": "display_data",
          "data": {
            "text/plain": [
              "<IPython.core.display.HTML object>"
            ],
            "text/html": [
              "<div class=\"tex2jax_ignore\" style=\"white-space: pre-wrap\">Software development is a fascinating field. It&#x27;s an ever-evolving, dynamic landscape that requires continuous learning and improvement. It&#x27;s not just about writing code; it&#x27;s about creating solutions to problems. Take the Java programming language for instance. A basic <span style=\"padding: 2px; border-radius: 4px; border: 1px solid #c8e6c9; background: #e8f5e9\">Hello World<span style=\"vertical-align: middle; margin-left: 2px; font-size: 0.7em; color: #66bb6a;\">Value</span></span> application in Java might look like this: <span style=\"padding: 2px; border-radius: 4px; border: 1px solid #bbdefb; background: #e3f2fd\">public class HelloWorld {public static void main(String[] args) {System.out.println(&#x27;Hello, World!&#x27;);}}<span style=\"vertical-align: middle; margin-left: 2px; font-size: 0.7em; color: #64b5f6;\">Code_Block</span></span> It&#x27;s a simple, yet powerful statement that prints out the greeting <span style=\"padding: 2px; border-radius: 4px; border: 1px solid #c8e6c9; background: #e8f5e9\">&#x27;Hello, World!&#x27;<span style=\"vertical-align: middle; margin-left: 2px; font-size: 0.7em; color: #66bb6a;\">Value</span></span> to the console.</div>"
            ]
          },
          "metadata": {}
        },
        {
          "output_type": "stream",
          "name": "stdout",
          "text": [
            "\n",
            "\n",
            "CODE \n",
            "\n",
            "\n"
          ]
        },
        {
          "output_type": "display_data",
          "data": {
            "text/plain": [
              "<IPython.core.display.HTML object>"
            ],
            "text/html": [
              "<div class=\"tex2jax_ignore\" style=\"white-space: pre-wrap\">Developers often use version control systems like Git to track changes in their code over time. This allows them to roll back changes if something goes wrong, or to branch off and try new things without affecting the main codebase. It&#x27;s a crucial tool in any developer&#x27;s toolbox, and one that can make a significant difference in the quality and stability of a project.</div>"
            ]
          },
          "metadata": {}
        },
        {
          "output_type": "stream",
          "name": "stdout",
          "text": [
            "\n",
            "\n",
            "CODE 1 to 10 is as follows: for i in range(1, 11): print(i)\n",
            "\n",
            "\n"
          ]
        },
        {
          "output_type": "display_data",
          "data": {
            "text/plain": [
              "<IPython.core.display.HTML object>"
            ],
            "text/html": [
              "<div class=\"tex2jax_ignore\" style=\"white-space: pre-wrap\">Coding in Python is a joy. The syntax is clean, and the language is powerful. For example, a simple script to print a list of numbers from <span style=\"padding: 2px; border-radius: 4px; border: 1px solid #c8e6c9; background: #e8f5e9\">1<span style=\"vertical-align: middle; margin-left: 2px; font-size: 0.7em; color: #66bb6a;\">Value</span></span> to <span style=\"padding: 2px; border-radius: 4px; border: 1px solid #c8e6c9; background: #e8f5e9\">10<span style=\"vertical-align: middle; margin-left: 2px; font-size: 0.7em; color: #66bb6a;\">Value</span></span> is as follows: <span style=\"padding: 2px; border-radius: 4px; border: 1px solid #bbdefb; background: #e3f2fd\">for i in range<span style=\"vertical-align: middle; margin-left: 2px; font-size: 0.7em; color: #64b5f6;\">Code_Block</span></span><span style=\"padding: 2px; border-radius: 4px; border: 1px solid #c8e6c9; background: #e8f5e9\">(1, 11<span style=\"vertical-align: middle; margin-left: 2px; font-size: 0.7em; color: #66bb6a;\">Value</span></span><span style=\"padding: 2px; border-radius: 4px; border: 1px solid #bbdefb; background: #e3f2fd\">):<span style=\"vertical-align: middle; margin-left: 2px; font-size: 0.7em; color: #64b5f6;\">Code_Block</span></span> <span style=\"padding: 2px; border-radius: 4px; border: 1px solid #d1c4e9; background: #ede7f6\">print<span style=\"vertical-align: middle; margin-left: 2px; font-size: 0.7em; color: #9575cd;\">Function</span></span><span style=\"padding: 2px; border-radius: 4px; border: 1px solid #bbdefb; background: #e3f2fd\">(i)<span style=\"vertical-align: middle; margin-left: 2px; font-size: 0.7em; color: #64b5f6;\">Code_Block</span></span> But Python is capable of so much more. From data science to machine learning, web development to automation, Python is a versatile language that can do it all.</div>"
            ]
          },
          "metadata": {}
        },
        {
          "output_type": "stream",
          "name": "stdout",
          "text": [
            "\n",
            "\n",
            "CODE \n",
            "\n",
            "\n"
          ]
        },
        {
          "output_type": "display_data",
          "data": {
            "text/plain": [
              "<IPython.core.display.HTML object>"
            ],
            "text/html": [
              "<div class=\"tex2jax_ignore\" style=\"white-space: pre-wrap\">In the world of web development, JavaScript reigns supreme. It&#x27;s the language of the web, powering everything from simple form validation to complex single-page applications. JavaScript can be quirky and frustrating, but it&#x27;s also incredibly flexible and capable. It&#x27;s an essential part of any web developer&#x27;s skill set.</div>"
            ]
          },
          "metadata": {}
        },
        {
          "output_type": "stream",
          "name": "stdout",
          "text": [
            "\n",
            "\n",
            "CODE Get-ChildItem -Path C:\\ -Recurse\n",
            "\n",
            "\n"
          ]
        },
        {
          "output_type": "display_data",
          "data": {
            "text/plain": [
              "<IPython.core.display.HTML object>"
            ],
            "text/html": [
              "<div class=\"tex2jax_ignore\" style=\"white-space: pre-wrap\">PowerShell is a powerful scripting language and shell developed by Microsoft. It&#x27;s primarily used for automating administrative tasks and managing configuration of systems.  A simple PowerShell script to list all files in a directory might look something like this: <span style=\"padding: 2px; border-radius: 4px; border: 1px solid #bbdefb; background: #e3f2fd\">Get-ChildItem -Path C:\\ -Recurse<span style=\"vertical-align: middle; margin-left: 2px; font-size: 0.7em; color: #64b5f6;\">Code_Block</span></span>  PowerShell is a crucial tool in any Windows administrator&#x27;s toolbox.</div>"
            ]
          },
          "metadata": {}
        },
        {
          "output_type": "stream",
          "name": "stdout",
          "text": [
            "\n",
            "\n",
            "CODE def addTwoNumbers(a, b): return a + b\n",
            "\n",
            "\n"
          ]
        },
        {
          "output_type": "display_data",
          "data": {
            "text/plain": [
              "<IPython.core.display.HTML object>"
            ],
            "text/html": [
              "<div class=\"tex2jax_ignore\" style=\"white-space: pre-wrap\">Software development is an intricate process that involves multiple stages. It starts with the conception of an idea for a software application, followed by the design, coding, testing, and deployment. The coding stage is where the magic happens. For instance, in Python, a simple function to add two numbers would look like <span style=\"padding: 2px; border-radius: 4px; border: 1px solid #bbdefb; background: #e3f2fd\">def<span style=\"vertical-align: middle; margin-left: 2px; font-size: 0.7em; color: #64b5f6;\">Code_Block</span></span> <span style=\"padding: 2px; border-radius: 4px; border: 1px solid #bbdefb; background: #e3f2fd\">addTwoNumbers(a, b):<span style=\"vertical-align: middle; margin-left: 2px; font-size: 0.7em; color: #64b5f6;\">Code_Block</span></span> return <span style=\"padding: 2px; border-radius: 4px; border: 1px solid #bbdefb; background: #e3f2fd\">a + b<span style=\"vertical-align: middle; margin-left: 2px; font-size: 0.7em; color: #64b5f6;\">Code_Block</span></span>. This function takes two parameters and returns their sum. It&#x27;s the beauty of coding, where complex tasks can be simplified into a few lines of code. After coding, the software goes through rigorous testing to ensure it&#x27;s free of bugs and performs as expected.The final stage is deployment, where the software is made available for users. This stage also involves continuous monitoring and updates to ensure the software remains relevant and effective.</div>"
            ]
          },
          "metadata": {}
        },
        {
          "output_type": "stream",
          "name": "stdout",
          "text": [
            "\n",
            "\n",
            "CODE curly braces. So, the same 'if' statement in JavaScript would look like: if (x > 0) { console.log('Positive') } else { console.log('Negative') }\n",
            "\n",
            "\n"
          ]
        },
        {
          "output_type": "display_data",
          "data": {
            "text/plain": [
              "<IPython.core.display.HTML object>"
            ],
            "text/html": [
              "<div class=\"tex2jax_ignore\" style=\"white-space: pre-wrap\">The world of software development is vast and ever-evolving. Developers have access to a wide array of programming languages, each with its unique strengths and use cases. Two of the most popular languages today are JavaScript and Python.JavaScript, for instance, is a dynamic language primarily used in web development for client-side scripting. In contrast, Python is a high-level, general-purpose programming language known for its readability and simplicity. A key distinction is that Python uses indentation for blocks, while JavaScript uses <span style=\"padding: 2px; border-radius: 4px; border: 1px solid #bbdefb; background: #e3f2fd\">curly<span style=\"vertical-align: middle; margin-left: 2px; font-size: 0.7em; color: #64b5f6;\">Code_Block</span></span> braces. So, the same &#x27;<span style=\"padding: 2px; border-radius: 4px; border: 1px solid #bbdefb; background: #e3f2fd\">if<span style=\"vertical-align: middle; margin-left: 2px; font-size: 0.7em; color: #64b5f6;\">Code_Block</span></span>&#x27; statement in JavaScript would look like: <span style=\"padding: 2px; border-radius: 4px; border: 1px solid #bbdefb; background: #e3f2fd\">if (x &gt; 0) { console.log(&#x27;Positive&#x27;) } else { console.log(&#x27;Negative&#x27;) }<span style=\"vertical-align: middle; margin-left: 2px; font-size: 0.7em; color: #64b5f6;\">Code_Block</span></span>.Choosing the right language depends on the project requirements, the team&#x27;s expertise, and the desired development speed.</div>"
            ]
          },
          "metadata": {}
        },
        {
          "output_type": "stream",
          "name": "stdout",
          "text": [
            "\n",
            "\n",
            "CODE \n",
            "\n",
            "\n"
          ]
        },
        {
          "output_type": "display_data",
          "data": {
            "text/plain": [
              "<IPython.core.display.HTML object>"
            ],
            "text/html": [
              "<div class=\"tex2jax_ignore\" style=\"white-space: pre-wrap\">Software development is not just about writing code, it&#x27;s about solving problems. Developers are problem solvers who use code as a tool to provide solutions. This is why it&#x27;s crucial for a developer to understand the problem thoroughly before jumping into coding. A clear understanding of the problem helps in designing an effective solution.Once the problem is understood, the next step is to design a solution. This involves brainstorming, researching, and planning. The goal is to come up with a solution that is efficient, scalable, and maintainable. After the design phase, the developer can start coding. This is where the solution is translated into a language a computer can understand.</div>"
            ]
          },
          "metadata": {}
        },
        {
          "output_type": "stream",
          "name": "stdout",
          "text": [
            "\n",
            "\n",
            "CODE \n",
            "\n",
            "\n"
          ]
        },
        {
          "output_type": "display_data",
          "data": {
            "text/plain": [
              "<IPython.core.display.HTML object>"
            ],
            "text/html": [
              "<div class=\"tex2jax_ignore\" style=\"white-space: pre-wrap\">There is no one-size-fits-all approach in software development. Different projects require different methodologies. Some projects may benefit from a traditional waterfall approach, where each phase of development follows sequentially from initial conception to production. Others may be better suited for an agile approach, where requirements and solutions evolve through collaborative effort.For instance, the agile approach is often preferred for projects where the requirements are likely to change over time. This is because agile allows for flexibility and continuous improvement. On the other hand, the waterfall approach is suitable for projects with clearly defined requirements and no expected changes. The choice of methodology depends on the nature of the project and the team&#x27;s preferences.</div>"
            ]
          },
          "metadata": {}
        },
        {
          "output_type": "stream",
          "name": "stdout",
          "text": [
            "\n",
            "\n",
            "CODE public static int factorial(int n) { if (n == 0) return 1; else return n * factorial(n-1); }\n",
            "\n",
            "\n"
          ]
        },
        {
          "output_type": "display_data",
          "data": {
            "text/plain": [
              "<IPython.core.display.HTML object>"
            ],
            "text/html": [
              "<div class=\"tex2jax_ignore\" style=\"white-space: pre-wrap\">In software development, collaboration is key. Developers often work in teams, and each team member has a unique role to play. From the project manager who oversees the entire project, to the developers who write the code, and the testers who ensure the software is bug-free, everyone&#x27;s contribution is essential.Good communication within the team is crucial for success. This includes not just verbal communication, but also code readability. Code should be written in a way that it&#x27;s easy for other developers to understand. For example, in Java, a function to calculate the factorial of a number could be written as: <span style=\"padding: 2px; border-radius: 4px; border: 1px solid #bbdefb; background: #e3f2fd\">public static<span style=\"vertical-align: middle; margin-left: 2px; font-size: 0.7em; color: #64b5f6;\">Code_Block</span></span> <span style=\"padding: 2px; border-radius: 4px; border: 1px solid #ffe0b2; background: #fff3e0\">int<span style=\"vertical-align: middle; margin-left: 2px; font-size: 0.7em; color: #ffb74d;\">Data_Type</span></span> <span style=\"padding: 2px; border-radius: 4px; border: 1px solid #d1c4e9; background: #ede7f6\">factorial<span style=\"vertical-align: middle; margin-left: 2px; font-size: 0.7em; color: #9575cd;\">Function</span></span><span style=\"padding: 2px; border-radius: 4px; border: 1px solid #bbdefb; background: #e3f2fd\">(<span style=\"vertical-align: middle; margin-left: 2px; font-size: 0.7em; color: #64b5f6;\">Code_Block</span></span><span style=\"padding: 2px; border-radius: 4px; border: 1px solid #ffe0b2; background: #fff3e0\">int<span style=\"vertical-align: middle; margin-left: 2px; font-size: 0.7em; color: #ffb74d;\">Data_Type</span></span> <span style=\"padding: 2px; border-radius: 4px; border: 1px solid #bbdefb; background: #e3f2fd\">n) { if (n == 0) return<span style=\"vertical-align: middle; margin-left: 2px; font-size: 0.7em; color: #64b5f6;\">Code_Block</span></span> <span style=\"padding: 2px; border-radius: 4px; border: 1px solid #c8e6c9; background: #e8f5e9\">1<span style=\"vertical-align: middle; margin-left: 2px; font-size: 0.7em; color: #66bb6a;\">Value</span></span><span style=\"padding: 2px; border-radius: 4px; border: 1px solid #bbdefb; background: #e3f2fd\">; else<span style=\"vertical-align: middle; margin-left: 2px; font-size: 0.7em; color: #64b5f6;\">Code_Block</span></span> return <span style=\"padding: 2px; border-radius: 4px; border: 1px solid #bbdefb; background: #e3f2fd\">n * factorial(n-1); }<span style=\"vertical-align: middle; margin-left: 2px; font-size: 0.7em; color: #64b5f6;\">Code_Block</span></span>. This code is easy to read and understand, which makes it easier for other developers to work with.</div>"
            ]
          },
          "metadata": {}
        },
        {
          "output_type": "stream",
          "name": "stdout",
          "text": [
            "\n",
            "\n",
            "CODE \n",
            "\n",
            "\n"
          ]
        },
        {
          "output_type": "display_data",
          "data": {
            "text/plain": [
              "<IPython.core.display.HTML object>"
            ],
            "text/html": [
              "<div class=\"tex2jax_ignore\" style=\"white-space: pre-wrap\">Software development is a dynamic field, with new technologies and frameworks emerging regularly. This demands developers to be lifelong learners, always staying on top of the latest trends and technologies. This constant learning is one of the things that makes software development exciting, but it can also be challenging.For instance, consider the shift from monolithic architectures to microservices. This shift requires developers to learn new techniques and tools, but it also offers many benefits. Microservices allow for more flexibility and scalability, making them a popular choice for many modern applications. However, they also come with their own set of challenges, such as managing inter-service communication and data consistency.</div>"
            ]
          },
          "metadata": {}
        },
        {
          "output_type": "stream",
          "name": "stdout",
          "text": [
            "\n",
            "\n",
            "CODE #include <cassert> void testAdd() { assert(add(2, 3) == 5); } This test asserts that the function add returns 5 when given the arguments 2 and 3\n",
            "\n",
            "\n"
          ]
        },
        {
          "output_type": "display_data",
          "data": {
            "text/plain": [
              "<IPython.core.display.HTML object>"
            ],
            "text/html": [
              "<div class=\"tex2jax_ignore\" style=\"white-space: pre-wrap\">Quality assurance is a critical aspect of software development. It ensures that the software meets the required standards and performs as expected. This involves various testing methods, such as unit testing, integration testing, and system testing.Unit tests are small, isolated tests that verify the functionality of a single part of the software. They are typically written by developers as they write the code. For example, a unit test for a function that adds two numbers in C++ could look like: <span style=\"padding: 2px; border-radius: 4px; border: 1px solid #bbdefb; background: #e3f2fd\">#include &lt;cassert&gt; void testAdd() { assert(add(2, 3) == 5); }<span style=\"vertical-align: middle; margin-left: 2px; font-size: 0.7em; color: #64b5f6;\">Code_Block</span></span> This test asserts that the function <span style=\"padding: 2px; border-radius: 4px; border: 1px solid #d1c4e9; background: #ede7f6\">add<span style=\"vertical-align: middle; margin-left: 2px; font-size: 0.7em; color: #9575cd;\">Function</span></span> returns <span style=\"padding: 2px; border-radius: 4px; border: 1px solid #c8e6c9; background: #e8f5e9\">5<span style=\"vertical-align: middle; margin-left: 2px; font-size: 0.7em; color: #66bb6a;\">Value</span></span> when given the arguments <span style=\"padding: 2px; border-radius: 4px; border: 1px solid #c8e6c9; background: #e8f5e9\">2<span style=\"vertical-align: middle; margin-left: 2px; font-size: 0.7em; color: #66bb6a;\">Value</span></span> and <span style=\"padding: 2px; border-radius: 4px; border: 1px solid #c8e6c9; background: #e8f5e9\">3<span style=\"vertical-align: middle; margin-left: 2px; font-size: 0.7em; color: #66bb6a;\">Value</span></span>. If the function does not behave as expected, the test will fail, alerting the developer to the problem.</div>"
            ]
          },
          "metadata": {}
        },
        {
          "output_type": "stream",
          "name": "stdout",
          "text": [
            "\n",
            "\n",
            "CODE \n",
            "\n",
            "\n"
          ]
        },
        {
          "output_type": "display_data",
          "data": {
            "text/plain": [
              "<IPython.core.display.HTML object>"
            ],
            "text/html": [
              "<div class=\"tex2jax_ignore\" style=\"white-space: pre-wrap\">Software development process is not linear. It&#x27;s an iterative process, and each iteration involves planning, designing, coding, testing, and reviewing. The goal is to continuously improve the software and adapt to changing requirements.In the planning stage, the team decides what needs to be done, who will do it, and when it should be completed. This stage often involves discussions and brainstorming sessions. The design stage involves creating a blueprint for the software, detailing how it will work and what it will look like. The coding stage is where the software is actually built, and the testing stage involves checking the software for errors and bugs. The review stage involves evaluating the work done and looking for ways to improve in the next iteration.</div>"
            ]
          },
          "metadata": {}
        },
        {
          "output_type": "stream",
          "name": "stdout",
          "text": [
            "\n",
            "\n",
            "CODE function changeBackgroundColor(color) { document.body.style.background = color; }\n",
            "\n",
            "\n"
          ]
        },
        {
          "output_type": "display_data",
          "data": {
            "text/plain": [
              "<IPython.core.display.HTML object>"
            ],
            "text/html": [
              "<div class=\"tex2jax_ignore\" style=\"white-space: pre-wrap\">One of the exciting aspects of software development is the diversity of projects one can work on. From building a simple website to creating a complex artificial intelligence system, the possibilities are endless. Each project comes with its unique challenges and learning opportunities.For instance, building a website might require knowledge of HTML, CSS, and JavaScript. JavaScript is often used to make the website interactive. A simple JavaScript function to change the background color of a webpage could look like: <span style=\"padding: 2px; border-radius: 4px; border: 1px solid #bbdefb; background: #e3f2fd\">function changeBackgroundColor(color) {<span style=\"vertical-align: middle; margin-left: 2px; font-size: 0.7em; color: #64b5f6;\">Code_Block</span></span> <span style=\"padding: 2px; border-radius: 4px; border: 1px solid #bbdefb; background: #e3f2fd\">document.body.style.background = color; }<span style=\"vertical-align: middle; margin-left: 2px; font-size: 0.7em; color: #64b5f6;\">Code_Block</span></span> This function changes the background color of the webpage to the color specified as the argument.</div>"
            ]
          },
          "metadata": {}
        },
        {
          "output_type": "stream",
          "name": "stdout",
          "text": [
            "\n",
            "\n",
            "CODE \n",
            "\n",
            "\n"
          ]
        },
        {
          "output_type": "display_data",
          "data": {
            "text/plain": [
              "<IPython.core.display.HTML object>"
            ],
            "text/html": [
              "<div class=\"tex2jax_ignore\" style=\"white-space: pre-wrap\">A significant part of software development involves debugging. Debugging is the process of finding and fixing errors in the code. These errors, also known as bugs, can cause the software to behave unexpectedly or crash. Debugging can often be a challenging and time-consuming task, but it&#x27;s essential for creating reliable software.There are various debugging techniques and tools available to help developers find and fix bugs. For example, many integrated development environments (IDEs) provide debugging features, such as breakpoints and step-through execution. These tools allow developers to pause the execution of the code and inspect the values of variables, which can help in identifying the cause of a bug.</div>"
            ]
          },
          "metadata": {}
        },
        {
          "output_type": "stream",
          "name": "stdout",
          "text": [
            "\n",
            "\n",
            "CODE def factorial(n) if n == 0 1 else n * factorial(n - 1) end end. This recursive function multiplies the number by the factorial of the number minus one, unless the number is zero, in which case it returns 1\n",
            "\n",
            "\n"
          ]
        },
        {
          "output_type": "display_data",
          "data": {
            "text/plain": [
              "<IPython.core.display.HTML object>"
            ],
            "text/html": [
              "<div class=\"tex2jax_ignore\" style=\"white-space: pre-wrap\">Software development is a powerful tool for problem-solving. With the right code, software developers can build applications that help businesses operate more efficiently, enhance the user experience on digital platforms, and even solve complex societal problems.Take, for example, a simple Ruby script to find the factorial of a number. This function could be used in a variety of applications, for instance, in calculations involving permutations and combinations, statistical models, or even in game algorithms. The Ruby code could be as straightforward as: <span style=\"padding: 2px; border-radius: 4px; border: 1px solid #bbdefb; background: #e3f2fd\">def factorial(n)<span style=\"vertical-align: middle; margin-left: 2px; font-size: 0.7em; color: #64b5f6;\">Code_Block</span></span> <span style=\"padding: 2px; border-radius: 4px; border: 1px solid #bbdefb; background: #e3f2fd\">if n == 0<span style=\"vertical-align: middle; margin-left: 2px; font-size: 0.7em; color: #64b5f6;\">Code_Block</span></span> <span style=\"padding: 2px; border-radius: 4px; border: 1px solid #bbdefb; background: #e3f2fd\">1 else<span style=\"vertical-align: middle; margin-left: 2px; font-size: 0.7em; color: #64b5f6;\">Code_Block</span></span> <span style=\"padding: 2px; border-radius: 4px; border: 1px solid #bbdefb; background: #e3f2fd\">n * factorial(n - 1) end<span style=\"vertical-align: middle; margin-left: 2px; font-size: 0.7em; color: #64b5f6;\">Code_Block</span></span> end. This recursive function multiplies the number by the factorial of the number minus one, unless the number is <span style=\"padding: 2px; border-radius: 4px; border: 1px solid #c8e6c9; background: #e8f5e9\">zero<span style=\"vertical-align: middle; margin-left: 2px; font-size: 0.7em; color: #66bb6a;\">Value</span></span>, in which case it returns <span style=\"padding: 2px; border-radius: 4px; border: 1px solid #c8e6c9; background: #e8f5e9\">1<span style=\"vertical-align: middle; margin-left: 2px; font-size: 0.7em; color: #66bb6a;\">Value</span></span>.</div>"
            ]
          },
          "metadata": {}
        },
        {
          "output_type": "stream",
          "name": "stdout",
          "text": [
            "\n",
            "\n",
            "CODE static bool IsPrime(int number) { if (number <= 1) return false; for (var i = 2; i < number; i++) if (number % i == 0) return false; return number > 1; }. This function checks if a number is prime by checking for divisibility from 2\n",
            "\n",
            "\n"
          ]
        },
        {
          "output_type": "display_data",
          "data": {
            "text/plain": [
              "<IPython.core.display.HTML object>"
            ],
            "text/html": [
              "<div class=\"tex2jax_ignore\" style=\"white-space: pre-wrap\">Software development is an art and science. It&#x27;s an art because it involves creativity and intuition, and it&#x27;s a science because it involves systematic methods and logical reasoning. Good software developers are both artists and scientists. They are artists because they design and create software that is aesthetically pleasing and user-friendly. They are scientists because they use algorithms and data structures to solve problems efficiently and accurately.In the realm of software development, the language of choice is crucial. Among the plethora of programming languages, C# is known for its versatility and robustness. A simple C# method to check if a number is prime could be written as: <span style=\"padding: 2px; border-radius: 4px; border: 1px solid #bbdefb; background: #e3f2fd\">static bool<span style=\"vertical-align: middle; margin-left: 2px; font-size: 0.7em; color: #64b5f6;\">Code_Block</span></span> <span style=\"padding: 2px; border-radius: 4px; border: 1px solid #d1c4e9; background: #ede7f6\">IsPrime<span style=\"vertical-align: middle; margin-left: 2px; font-size: 0.7em; color: #9575cd;\">Function</span></span><span style=\"padding: 2px; border-radius: 4px; border: 1px solid #bbdefb; background: #e3f2fd\">(<span style=\"vertical-align: middle; margin-left: 2px; font-size: 0.7em; color: #64b5f6;\">Code_Block</span></span><span style=\"padding: 2px; border-radius: 4px; border: 1px solid #ffe0b2; background: #fff3e0\">int<span style=\"vertical-align: middle; margin-left: 2px; font-size: 0.7em; color: #ffb74d;\">Data_Type</span></span> <span style=\"padding: 2px; border-radius: 4px; border: 1px solid #bbdefb; background: #e3f2fd\">number) {<span style=\"vertical-align: middle; margin-left: 2px; font-size: 0.7em; color: #64b5f6;\">Code_Block</span></span> if (<span style=\"padding: 2px; border-radius: 4px; border: 1px solid #bbdefb; background: #e3f2fd\">number &lt;=<span style=\"vertical-align: middle; margin-left: 2px; font-size: 0.7em; color: #64b5f6;\">Code_Block</span></span> <span style=\"padding: 2px; border-radius: 4px; border: 1px solid #c8e6c9; background: #e8f5e9\">1<span style=\"vertical-align: middle; margin-left: 2px; font-size: 0.7em; color: #66bb6a;\">Value</span></span><span style=\"padding: 2px; border-radius: 4px; border: 1px solid #bbdefb; background: #e3f2fd\">)<span style=\"vertical-align: middle; margin-left: 2px; font-size: 0.7em; color: #64b5f6;\">Code_Block</span></span> return <span style=\"padding: 2px; border-radius: 4px; border: 1px solid #c8e6c9; background: #e8f5e9\">false<span style=\"vertical-align: middle; margin-left: 2px; font-size: 0.7em; color: #66bb6a;\">Value</span></span>; <span style=\"padding: 2px; border-radius: 4px; border: 1px solid #bbdefb; background: #e3f2fd\">for<span style=\"vertical-align: middle; margin-left: 2px; font-size: 0.7em; color: #64b5f6;\">Code_Block</span></span> (<span style=\"padding: 2px; border-radius: 4px; border: 1px solid #bbdefb; background: #e3f2fd\">var<span style=\"vertical-align: middle; margin-left: 2px; font-size: 0.7em; color: #64b5f6;\">Code_Block</span></span> i <span style=\"padding: 2px; border-radius: 4px; border: 1px solid #bbdefb; background: #e3f2fd\">=<span style=\"vertical-align: middle; margin-left: 2px; font-size: 0.7em; color: #64b5f6;\">Code_Block</span></span> <span style=\"padding: 2px; border-radius: 4px; border: 1px solid #c8e6c9; background: #e8f5e9\">2<span style=\"vertical-align: middle; margin-left: 2px; font-size: 0.7em; color: #66bb6a;\">Value</span></span>; <span style=\"padding: 2px; border-radius: 4px; border: 1px solid #bbdefb; background: #e3f2fd\">i &lt; number<span style=\"vertical-align: middle; margin-left: 2px; font-size: 0.7em; color: #64b5f6;\">Code_Block</span></span>; <span style=\"padding: 2px; border-radius: 4px; border: 1px solid #bbdefb; background: #e3f2fd\">i<span style=\"vertical-align: middle; margin-left: 2px; font-size: 0.7em; color: #64b5f6;\">Code_Block</span></span>++) if (<span style=\"padding: 2px; border-radius: 4px; border: 1px solid #d7ccc8; background: #efebe9\">number<span style=\"vertical-align: middle; margin-left: 2px; font-size: 0.7em; color: #a1887f;\">Variable</span></span> % <span style=\"padding: 2px; border-radius: 4px; border: 1px solid #d7ccc8; background: #efebe9\">i<span style=\"vertical-align: middle; margin-left: 2px; font-size: 0.7em; color: #a1887f;\">Variable</span></span> == 0<span style=\"padding: 2px; border-radius: 4px; border: 1px solid #bbdefb; background: #e3f2fd\">)<span style=\"vertical-align: middle; margin-left: 2px; font-size: 0.7em; color: #64b5f6;\">Code_Block</span></span> return false; return <span style=\"padding: 2px; border-radius: 4px; border: 1px solid #d7ccc8; background: #efebe9\">number<span style=\"vertical-align: middle; margin-left: 2px; font-size: 0.7em; color: #a1887f;\">Variable</span></span> &gt; <span style=\"padding: 2px; border-radius: 4px; border: 1px solid #c8e6c9; background: #e8f5e9\">1<span style=\"vertical-align: middle; margin-left: 2px; font-size: 0.7em; color: #66bb6a;\">Value</span></span>; <span style=\"padding: 2px; border-radius: 4px; border: 1px solid #bbdefb; background: #e3f2fd\">}<span style=\"vertical-align: middle; margin-left: 2px; font-size: 0.7em; color: #64b5f6;\">Code_Block</span></span>. This function checks if a number is prime by checking for divisibility from <span style=\"padding: 2px; border-radius: 4px; border: 1px solid #c8e6c9; background: #e8f5e9\">2<span style=\"vertical-align: middle; margin-left: 2px; font-size: 0.7em; color: #66bb6a;\">Value</span></span> to the number itself. If the number is divisible by any of these, it is not a prime number.</div>"
            ]
          },
          "metadata": {}
        },
        {
          "output_type": "stream",
          "name": "stdout",
          "text": [
            "\n",
            "\n",
            "CODE numbers\n",
            "\n",
            "\n"
          ]
        },
        {
          "output_type": "display_data",
          "data": {
            "text/plain": [
              "<IPython.core.display.HTML object>"
            ],
            "text/html": [
              "<div class=\"tex2jax_ignore\" style=\"white-space: pre-wrap\">The nature of software development requires a strong understanding of algorithms. Algorithms are step-by-step procedures for accomplishing a task or solving a problem. They form the backbone of any non-trivial software application. A deep understanding of algorithms enables software developers to create efficient and effective solutions.To illustrate, consider the problem of sorting a list of <span style=\"padding: 2px; border-radius: 4px; border: 1px solid #ffe0b2; background: #fff3e0\">numbers<span style=\"vertical-align: middle; margin-left: 2px; font-size: 0.7em; color: #ffb74d;\">Data_Type</span></span> in ascending order. A simple algorithm to do this is the bubble sort algorithm. This algorithm works by repeatedly swapping adjacent elements if they are in the wrong order. While it&#x27;s not the most efficient sorting algorithm, it&#x27;s simple and easy to understand.</div>"
            ]
          },
          "metadata": {}
        },
        {
          "output_type": "stream",
          "name": "stdout",
          "text": [
            "\n",
            "\n",
            "CODE sumArray(array) { var sum = 0; for (var i = 0; i < array.length; i++) { sum += array[i]; } return sum; } This function works by initializing a variable, sum, to 0 and then looping over the array, adding each element to sum\n",
            "\n",
            "\n"
          ]
        },
        {
          "output_type": "display_data",
          "data": {
            "text/plain": [
              "<IPython.core.display.HTML object>"
            ],
            "text/html": [
              "<div class=\"tex2jax_ignore\" style=\"white-space: pre-wrap\">Software development is a process that requires careful planning, design, coding, testing, and maintenance. Each stage of this process requires different skills and knowledge, but they all contribute to the creation of high-quality software.Coding is a critical part of software development. It involves writing instructions for a computer to follow using a programming language. For example, in JavaScript, you can write a function to calculate the sum of an array of numbers like this: function <span style=\"padding: 2px; border-radius: 4px; border: 1px solid #d1c4e9; background: #ede7f6\">sum<span style=\"vertical-align: middle; margin-left: 2px; font-size: 0.7em; color: #9575cd;\">Function</span></span><span style=\"padding: 2px; border-radius: 4px; border: 1px solid #bbdefb; background: #e3f2fd\">Array(array) {<span style=\"vertical-align: middle; margin-left: 2px; font-size: 0.7em; color: #64b5f6;\">Code_Block</span></span> var <span style=\"padding: 2px; border-radius: 4px; border: 1px solid #d7ccc8; background: #efebe9\">sum<span style=\"vertical-align: middle; margin-left: 2px; font-size: 0.7em; color: #a1887f;\">Variable</span></span> <span style=\"padding: 2px; border-radius: 4px; border: 1px solid #bbdefb; background: #e3f2fd\">=<span style=\"vertical-align: middle; margin-left: 2px; font-size: 0.7em; color: #64b5f6;\">Code_Block</span></span> <span style=\"padding: 2px; border-radius: 4px; border: 1px solid #c8e6c9; background: #e8f5e9\">0<span style=\"vertical-align: middle; margin-left: 2px; font-size: 0.7em; color: #66bb6a;\">Value</span></span><span style=\"padding: 2px; border-radius: 4px; border: 1px solid #bbdefb; background: #e3f2fd\">;<span style=\"vertical-align: middle; margin-left: 2px; font-size: 0.7em; color: #64b5f6;\">Code_Block</span></span> for (var i <span style=\"padding: 2px; border-radius: 4px; border: 1px solid #bbdefb; background: #e3f2fd\">=<span style=\"vertical-align: middle; margin-left: 2px; font-size: 0.7em; color: #64b5f6;\">Code_Block</span></span> 0; i &lt; <span style=\"padding: 2px; border-radius: 4px; border: 1px solid #d7ccc8; background: #efebe9\">array<span style=\"vertical-align: middle; margin-left: 2px; font-size: 0.7em; color: #a1887f;\">Variable</span></span>.length; i++) { <span style=\"padding: 2px; border-radius: 4px; border: 1px solid #d7ccc8; background: #efebe9\">sum<span style=\"vertical-align: middle; margin-left: 2px; font-size: 0.7em; color: #a1887f;\">Variable</span></span> <span style=\"padding: 2px; border-radius: 4px; border: 1px solid #bbdefb; background: #e3f2fd\">+=<span style=\"vertical-align: middle; margin-left: 2px; font-size: 0.7em; color: #64b5f6;\">Code_Block</span></span> <span style=\"padding: 2px; border-radius: 4px; border: 1px solid #d7ccc8; background: #efebe9\">array<span style=\"vertical-align: middle; margin-left: 2px; font-size: 0.7em; color: #a1887f;\">Variable</span></span><span style=\"padding: 2px; border-radius: 4px; border: 1px solid #bbdefb; background: #e3f2fd\">[<span style=\"vertical-align: middle; margin-left: 2px; font-size: 0.7em; color: #64b5f6;\">Code_Block</span></span>i<span style=\"padding: 2px; border-radius: 4px; border: 1px solid #bbdefb; background: #e3f2fd\">];<span style=\"vertical-align: middle; margin-left: 2px; font-size: 0.7em; color: #64b5f6;\">Code_Block</span></span> } return <span style=\"padding: 2px; border-radius: 4px; border: 1px solid #d7ccc8; background: #efebe9\">sum<span style=\"vertical-align: middle; margin-left: 2px; font-size: 0.7em; color: #a1887f;\">Variable</span></span>; } This function works by initializing a variable, <span style=\"padding: 2px; border-radius: 4px; border: 1px solid #d7ccc8; background: #efebe9\">sum<span style=\"vertical-align: middle; margin-left: 2px; font-size: 0.7em; color: #a1887f;\">Variable</span></span>, to <span style=\"padding: 2px; border-radius: 4px; border: 1px solid #c8e6c9; background: #e8f5e9\">0<span style=\"vertical-align: middle; margin-left: 2px; font-size: 0.7em; color: #66bb6a;\">Value</span></span> and then looping over the array, adding each element to <span style=\"padding: 2px; border-radius: 4px; border: 1px solid #d7ccc8; background: #efebe9\">sum<span style=\"vertical-align: middle; margin-left: 2px; font-size: 0.7em; color: #a1887f;\">Variable</span></span>. Finally, it returns the sum.</div>"
            ]
          },
          "metadata": {}
        },
        {
          "output_type": "stream",
          "name": "stdout",
          "text": [
            "\n",
            "\n",
            "CODE \n",
            "\n",
            "\n"
          ]
        },
        {
          "output_type": "display_data",
          "data": {
            "text/plain": [
              "<IPython.core.display.HTML object>"
            ],
            "text/html": [
              "<div class=\"tex2jax_ignore\" style=\"white-space: pre-wrap\">Software development is a field that combines creativity, problem-solving, and technical skills. It&#x27;s about creating software applications that are efficient, user-friendly, and meet the needs of the user or client. A major part of software development is coding, where developers write code to create the functionality of the software.But software development isn&#x27;t just about coding. It also involves other processes such as design, testing, and maintenance. Design involves planning how the software will work and what it will look like. Testing is about checking the software for bugs and issues. And maintenance involves updating the software to keep it current and to add new features or fix problems.</div>"
            ]
          },
          "metadata": {}
        },
        {
          "output_type": "stream",
          "name": "stdout",
          "text": [
            "\n",
            "\n"
          ]
        }
      ]
    },
    {
      "cell_type": "code",
      "source": [
        "\n",
        "show_span_box_markup(text, spans)"
      ],
      "metadata": {
        "colab": {
          "base_uri": "https://localhost:8080/",
          "height": 121
        },
        "id": "oyFGUcOb32wP",
        "outputId": "003a5e62-00ac-41a7-d8c8-621dc8787272"
      },
      "execution_count": null,
      "outputs": [
        {
          "output_type": "display_data",
          "data": {
            "text/plain": [
              "<IPython.core.display.HTML object>"
            ],
            "text/html": [
              "<div class=\"tex2jax_ignore\" style=\"white-space: pre-wrap\">Test-driven development (TDD) is a software development approach where tests are written before the actual code. This approach ensures that the software behaves as expected, reducing the number of bugs and improving the quality of the software. A typical <span style=\"padding: 2px; border-radius: 4px; border: 1px solid #bbdefb; background: #e3f2fd\">TDD<span style=\"vertical-align: middle; margin-left: 2px; font-size: 0.7em; color: #64b5f6;\">Application</span></span> cycle involves writing a failing test, writing code to make the test pass, and then refactoring the code to improve its structure. Here&#x27;s a simple example of <span style=\"padding: 2px; border-radius: 4px; border: 1px solid #bbdefb; background: #e3f2fd\">TDD<span style=\"vertical-align: middle; margin-left: 2px; font-size: 0.7em; color: #64b5f6;\">Application</span></span> in <span style=\"padding: 2px; border-radius: 4px; border: 1px solid #c8e6c9; background: #e8f5e9\">Java<span style=\"vertical-align: middle; margin-left: 2px; font-size: 0.7em; color: #66bb6a;\">Language</span></span>. <span style=\"padding: 2px; border-radius: 4px; border: 1px solid #ffcdd2; background: #ffebee\">@Test public void<span style=\"vertical-align: middle; margin-left: 2px; font-size: 0.7em; color: #e57373;\">Code_Block</span></span> <span style=\"padding: 2px; border-radius: 4px; border: 1px solid #ffcdd2; background: #ffebee\">testAdd() {<span style=\"vertical-align: middle; margin-left: 2px; font-size: 0.7em; color: #e57373;\">Code_Block</span></span> <span style=\"padding: 2px; border-radius: 4px; border: 1px solid #ffcdd2; background: #ffebee\">Calculator calculator = new Calculator();<span style=\"vertical-align: middle; margin-left: 2px; font-size: 0.7em; color: #e57373;\">Code_Block</span></span> <span style=\"padding: 2px; border-radius: 4px; border: 1px solid #ffcdd2; background: #ffebee\">int result = calculator.add(2, 3);<span style=\"vertical-align: middle; margin-left: 2px; font-size: 0.7em; color: #e57373;\">Code_Block</span></span> <span style=\"padding: 2px; border-radius: 4px; border: 1px solid #ffcdd2; background: #ffebee\">assertEquals(5, result); }<span style=\"vertical-align: middle; margin-left: 2px; font-size: 0.7em; color: #e57373;\">Code_Block</span></span></div>"
            ]
          },
          "metadata": {}
        }
      ]
    },
    {
      "cell_type": "code",
      "source": [
        "from transformers import AutoTokenizer, T5ForConditionalGeneration\n",
        "tokenizer = AutoTokenizer.from_pretrained(\"Salesforce/codet5-large\")\n",
        "model = T5ForConditionalGeneration.from_pretrained(\"Salesforce/codet5-large\")\n",
        "text = '''### Instruction:\n",
        "Only and only return the Exact Code Snippet from below body of the text below.\n",
        " If no code snippet is present return nothing\n",
        "### Input:\n",
        "In software development, debugging is a multistep process to detect and rectify a problem in the computer code. In simple terms, it is the process of finding and fixing errors in software that causes it to behave unexpectedly or crash.\n",
        "To illustrate this, let's look at a simple C++ code snippet. Suppose we have an array of integers, 'int arr[5] = {1, 2, 3, 4, 5};', and we want to print the array elements. The code would be 'for(int i=0; i<5; i++) {cout << arr[i] << endl;}'. If there is a bug in the code, the debugger will help identify it.'''\n",
        "input_ids = tokenizer(text, return_tensors=\"pt\").input_ids\n",
        "\n",
        "# simply generate a single sequence\n",
        "generated_ids = model.generate(input_ids, max_length=512)\n",
        "print(\"PREDS\", tokenizer.decode(generated_ids[0], skip_special_tokens=True))"
      ],
      "metadata": {
        "id": "fkTI8giN4i55",
        "colab": {
          "base_uri": "https://localhost:8080/"
        },
        "outputId": "0377ea89-ca74-41b0-f581-786cc3c26e5f"
      },
      "execution_count": null,
      "outputs": [
        {
          "output_type": "stream",
          "name": "stdout",
          "text": [
            "PREDS \n",
            "\n",
            "\n",
            "\n",
            "\n",
            "\n",
            " Output: \n",
            "\n",
            "### Output: \n",
            "\n",
            "### Error: \n",
            "\n",
            "\n",
            "\n",
            "\n",
            "### Output: \n",
            "\n",
            "Return: \n",
            "\n",
            "\n",
            "\n",
            "\n",
            "\n",
            "\n",
            "### Output: \n",
            "\n",
            "\n",
            "\n",
            "\n",
            "\n",
            "### Output: \n",
            "\n",
            "### Output: \n",
            "\n",
            "\n",
            "\n",
            "\n",
            "### Output: \n",
            "### Input: \n",
            "\n",
            "\n",
            "### Output: \n",
            "\n",
            "\n"
          ]
        }
      ]
    },
    {
      "cell_type": "code",
      "source": [],
      "metadata": {
        "id": "tmEr2QnpoCha"
      },
      "execution_count": null,
      "outputs": []
    }
  ]
}